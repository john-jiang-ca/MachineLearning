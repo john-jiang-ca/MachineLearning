{
  "nbformat": 4,
  "nbformat_minor": 0,
  "metadata": {
    "colab": {
      "name": "ch13_exe10.ipynb",
      "provenance": [],
      "collapsed_sections": [],
      "toc_visible": true,
      "machine_shape": "hm",
      "mount_file_id": "10-An_Ry53ScPn8_68JmOu52Azmu3_FWW",
      "authorship_tag": "ABX9TyM1mdhXjkEGL+jZB77pgn2F",
      "include_colab_link": true
    },
    "kernelspec": {
      "name": "python3",
      "display_name": "Python 3"
    },
    "accelerator": "GPU"
  },
  "cells": [
    {
      "cell_type": "markdown",
      "metadata": {
        "id": "view-in-github",
        "colab_type": "text"
      },
      "source": [
        "<a href=\"https://colab.research.google.com/github/john-jiang-ca/MachineLearning/blob/master/ch13_exe10.ipynb\" target=\"_parent\"><img src=\"https://colab.research.google.com/assets/colab-badge.svg\" alt=\"Open In Colab\"/></a>"
      ]
    },
    {
      "cell_type": "code",
      "metadata": {
        "id": "fwm5ONgZU8n3"
      },
      "source": [
        "import tensorflow as tf\n",
        "from tensorflow import keras\n",
        "import numpy as np\n",
        "import os\n",
        "from tensorflow import keras\n",
        "from keras.layers import Dense, Flatten\n",
        "from pathlib import Path\n",
        "from matplotlib import pyplot as plt\n",
        "import pandas as pd\n",
        "import math\n",
        "\n",
        "\n",
        "from tensorflow.train import Example, Features, Feature, Int64List, BytesList"
      ],
      "execution_count": 1,
      "outputs": []
    },
    {
      "cell_type": "markdown",
      "metadata": {
        "id": "7GemRrClVbnE"
      },
      "source": [
        "# Download data and split the paths into training, validate and test set"
      ]
    },
    {
      "cell_type": "code",
      "metadata": {
        "id": "RuobksOhVDuW",
        "colab": {
          "base_uri": "https://localhost:8080/"
        },
        "outputId": "9768f72c-3240-4b17-ef51-c0d9e9ca9c4e"
      },
      "source": [
        "DOWNLOAD_ROOT = \"http://ai.stanford.edu/~amaas/data/sentiment/\"\n",
        "FILENAME = \"aclImdb_v1.tar.gz\"\n",
        "filepath = keras.utils.get_file(FILENAME, DOWNLOAD_ROOT + FILENAME, extract=True)\n",
        "path = Path(filepath).parent / \"aclImdb\"\n",
        "path\n"
      ],
      "execution_count": 2,
      "outputs": [
        {
          "output_type": "stream",
          "text": [
            "Downloading data from http://ai.stanford.edu/~amaas/data/sentiment/aclImdb_v1.tar.gz\n",
            "84131840/84125825 [==============================] - 7s 0us/step\n"
          ],
          "name": "stdout"
        },
        {
          "output_type": "execute_result",
          "data": {
            "text/plain": [
              "PosixPath('/root/.keras/datasets/aclImdb')"
            ]
          },
          "metadata": {
            "tags": []
          },
          "execution_count": 2
        }
      ]
    },
    {
      "cell_type": "code",
      "metadata": {
        "id": "tgtuCU-cVM1i"
      },
      "source": [
        "def get_paths(path: Path):\n",
        "  return [str(p) for p in path.glob(\"*.txt\")]\n",
        "\n",
        "train_neg = get_paths(path / \"train\" / \"neg\")\n",
        "train_pos = get_paths(path / \"train\" / \"pos\")\n",
        "test_neg = get_paths(path / \"test\" / \"neg\")\n",
        "test_pos = get_paths(path / \"test\" / \"pos\")\n",
        "val_neg = test_neg[:7500]\n",
        "val_pos = test_pos[:7500]\n",
        "test_neg = test_neg[7500:]\n",
        "test_pos = test_pos[7500:]"
      ],
      "execution_count": 3,
      "outputs": []
    },
    {
      "cell_type": "markdown",
      "metadata": {
        "id": "trT9FWmMWPMF"
      },
      "source": [
        "# Create dataset that can be executed out core"
      ]
    },
    {
      "cell_type": "code",
      "metadata": {
        "id": "_WBzygHkVhQx"
      },
      "source": [
        "def build_dataset_without_in_mem_fit(positive_paths, negative_paths):\n",
        "  pos_set = tf.data.TextLineDataset(positive_paths, num_parallel_reads=10).map(lambda review: (review, 1))\n",
        "  neg_set = tf.data.TextLineDataset(negative_paths, num_parallel_reads=10).map(lambda review: (review, 0))\n",
        "  return tf.data.Dataset.concatenate(pos_set, neg_set)"
      ],
      "execution_count": 4,
      "outputs": []
    },
    {
      "cell_type": "code",
      "metadata": {
        "id": "JrsxnYjkWALw"
      },
      "source": [
        "training_set = build_dataset_without_in_mem_fit(train_pos, train_neg).shuffle(len(train_pos)*2).prefetch(1)\n",
        "validation_set = build_dataset_without_in_mem_fit(val_pos, val_neg).shuffle(len(train_pos)*2).prefetch(1)\n",
        "test_set = build_dataset_without_in_mem_fit(test_pos, test_neg).shuffle(len(train_pos)*2).prefetch(1)"
      ],
      "execution_count": 5,
      "outputs": []
    },
    {
      "cell_type": "markdown",
      "metadata": {
        "id": "jNdqpunTWz4z"
      },
      "source": [
        "## Explore what training set\n",
        "\n",
        "*   Take some data from the training set\n",
        "*   Create a pandas Datafraem using the data taken above\n",
        "*  Display the data\n",
        "\n"
      ]
    },
    {
      "cell_type": "code",
      "metadata": {
        "colab": {
          "base_uri": "https://localhost:8080/",
          "height": 717
        },
        "id": "6VAGifdTWrfv",
        "outputId": "861ef758-3537-4a1b-9e96-4550e3e6b86c"
      },
      "source": [
        "demo_data = training_set.take(5)\n",
        "data = []\n",
        "for item in demo_data:\n",
        "  review, label = item\n",
        "  data.append({\n",
        "  \"review\": review.numpy(),\n",
        "  \"label\": label.numpy()\n",
        "  })\n",
        "df = pd.DataFrame(data)\n",
        "pd.set_option('display.max_colwidth', -1)\n",
        "df.head()"
      ],
      "execution_count": 6,
      "outputs": [
        {
          "output_type": "stream",
          "text": [
            "/usr/local/lib/python3.6/dist-packages/ipykernel_launcher.py:10: FutureWarning: Passing a negative integer is deprecated in version 1.0 and will not be supported in future version. Instead, use None to not limit the column width.\n",
            "  # Remove the CWD from sys.path while we load stuff.\n"
          ],
          "name": "stderr"
        },
        {
          "output_type": "execute_result",
          "data": {
            "text/html": [
              "<div>\n",
              "<style scoped>\n",
              "    .dataframe tbody tr th:only-of-type {\n",
              "        vertical-align: middle;\n",
              "    }\n",
              "\n",
              "    .dataframe tbody tr th {\n",
              "        vertical-align: top;\n",
              "    }\n",
              "\n",
              "    .dataframe thead th {\n",
              "        text-align: right;\n",
              "    }\n",
              "</style>\n",
              "<table border=\"1\" class=\"dataframe\">\n",
              "  <thead>\n",
              "    <tr style=\"text-align: right;\">\n",
              "      <th></th>\n",
              "      <th>review</th>\n",
              "      <th>label</th>\n",
              "    </tr>\n",
              "  </thead>\n",
              "  <tbody>\n",
              "    <tr>\n",
              "      <th>0</th>\n",
              "      <td>b\"Why? Why did they make this movie? If Timothy Olyphant wasn't shirtless in it several times, there would be ABSOLUTELY no reason to watch this movie, ever. Um...Plot? Nope. Well-defined characters? nope. The only time I laughed was when my boyfriend made fun of the whole she-bang. P.S. Andy Dick? Nope.\"</td>\n",
              "      <td>0</td>\n",
              "    </tr>\n",
              "    <tr>\n",
              "      <th>1</th>\n",
              "      <td>b\"Story starts slow and nothing funny happens for a while. All the action is in the end, but you won't have to laugh because the movie is funny, but because the story is pathetic.&lt;br /&gt;&lt;br /&gt;The funniest part is when Harvey 'I'm not Paranoia' Keitel really loses it and the judge starts a massacre. Oscars for this guy!\"</td>\n",
              "      <td>0</td>\n",
              "    </tr>\n",
              "    <tr>\n",
              "      <th>2</th>\n",
              "      <td>b\"The storyline was okay. Akshay Kumar was good as always and that was the only good thing about the movie. Kareena Kapoor looked bad. There was so hue and cry over her size zero but she did not looked good leaner. I don't know why the hell did Anil Kapoor accepted such a bad role. There was nothing much to do for him in the movie. Just because it is a Yashraj film does not means that an actor should accept the role however bad it is. Said Ali khan was alright. I think that it is high time that Indian directors and producers start thinking of Indian customers as intelligent lot. What are we ? fools!!!! What do they think, they will show 2 men taking on a SWAT squad to teeters and we will believe them. Is the Indian police so stupid that they are trying to nab some criminals.... they take an entire squad of 100 + policemen and no one was there to surround the palace. The action was crap and I have never seen such bad action. Akshay Kumar was between a circle of 30-40 policemen all shooting at him..... and he shooting back at them. None of the policemen's bullet touched him but he killed all the policemen. Crap. CRAP.&lt;br /&gt;&lt;br /&gt;I think the fight director who thought of this scene should take retirement.&lt;br /&gt;&lt;br /&gt;I strongly recommend NOT TO SEE THIS MOVIE.\"</td>\n",
              "      <td>0</td>\n",
              "    </tr>\n",
              "    <tr>\n",
              "      <th>3</th>\n",
              "      <td>b\"The Lady From Shanghai is weird even by the standards of its eminent director, Orson Welles, whose last Hollywood film this was for many a moon. It's a kind of post-modern film noir made during the period when more conventional films of this type were quite popular, and it concerns a happy go lucky Irish sailor (played by Welles) who falls in with a mysterious lady (Rita Hayworth, who was married to Welles at the time), and her crippled, and probably impotent husband, played with a brainy, malevolent gusto by Everett Sloan. A long sea voyage follows, with Welles in tow as bodyguard, and the plot thickens when Sloan's law partner (Glenn Anders) turns up and starts making trouble by giving odd speeches about suicide and other morbid topics that suggest that the man is on the verge of mental breakdown. A murder plot ensues, and all sorts of calamities follow for Welles and his employers, and at this point the story, fuzzy and told at a leisurely pace thus far, goes off the deep end, and the last part of the film consists of brilliant directorial set-pieces that seem to have been thrown in to give the movie some of the drive and urgency its story does not, by itself, possess, and the result is a very watchable and often pleasing at all times incomprehensible mess.&lt;br /&gt;&lt;br /&gt;It's hard to know what Welles was trying to do with this film aside from maybe resurrect his career in Hollywood by making a vehicle for his wife. But self-destruction intervenes, as it often does with Welles, and Miss Hayworth has never looked less fetching. That she is also cast as a femme fatale seems peculiar, as aside from her beauty her most appealing trait as a screen personality was lovableness, a quality she does not possess in this picture. The director himself is strangely unappealing and hammy at O'Hara, the (presumably) easygoing sailor, since Welles, for all his many gifts, was not known as an easy man to work with. This is a role that twenty or thirty years later Sean Connery or Robert Shaw might have been able to breath life into. Welles does not. The most interesting performance in the movie is Glenn Anders' as Grisby, Sloan's loony, treacherous law partner. Anders works wonders with the part, and is photographed to look bizarre, while his scenes end on odd, sour notes, and are often choppily edited; but for all this he manages to make Grisby's derangement palpable and disturbing, and anticipates, in a genteel way, the more flamboyant Method actors of the fifties, such as Timothy Carey.&lt;br /&gt;&lt;br /&gt;There is a question that nags me about this film: what was Welles trying to say? He was a highly talented and intelligent man, and tended to make statements in his movies, which, whether one agrees with his world view or not, were brilliantly put forth. I think I have an answer, or a partial one: Welles was summing up his movie career. He had reached the end of his rope in the Hollywood studio system he despised, and he knew it. The Lady From Shanghai isn't exactly a nose-thumbing at the studio moguls of the day, but I suspect that it is, in its portrait of amoral, rival big shot lawyers (read: producers) expressing Welles' opinion of the power brokers of Hollywood. That he presented himself as a rootless sailor is telling. Welles himself was certainly an inveterate traveler, and he rarely lived in one place for long. He was hired by a studio to provide it with a big, prestigious film (Citizen Kane), which caused a firestorm of controversy from which he never fully recovered. This may be the issue that dares not speak its name in this film, which is to say Welles' personal failure in not getting over the shock of his newness in the movie colony, and his inability to deliver the goods, as promised. The mere fact of him turning up in Hollywood, like his mere presence in the film, could not forestall disasters well beyond his control. That he presented himself in the movie as an amiable, naive outsider shows a lack of self-knowledge on Welles' part. He was much more of an inside player than he let on, and I imagine that he despised his knowledge of the worldlier aspects of life, and himself for knowing so much.\"</td>\n",
              "      <td>1</td>\n",
              "    </tr>\n",
              "    <tr>\n",
              "      <th>4</th>\n",
              "      <td>b'The Last Command (1928) is a silent film directed by Josef von Sternberg.It shows us Czarist General, Grand Duke Sergius Alexander (Emil Jannings) in his days of glory.In 1917 he had all the power but after the revolution and the collapse of Imperial Russia he has nothing.He also had the love of a woman, Natalie Dabrova (Evelyn Brent).About ten years later he applies for a small part in a film about the revolution.His old enemy Lev Andreyev (William Powell) is the director who gets to choose whether to hire him as a film extra or not.The Last Command is very good silent drama.Emil Jannings does memorable role work in the lead.Evelyn Brent is wonderful playing the woman lead.William Powell is great as always.There are plenty of scenes to remember in this movie.Like many scenes with Jannings and Brent.And then there is the ending with Powell and Jannings.This is a movie that touches in many parts.'</td>\n",
              "      <td>1</td>\n",
              "    </tr>\n",
              "  </tbody>\n",
              "</table>\n",
              "</div>"
            ],
            "text/plain": [
              "                                                                                                                                                                                                                                                                                                                                                                                                                                                                                                                                                                                                                                                                                                                                                                                                                                                                                                                                                                                                                                                                                                                                                                                                                                                                                                                                                                                                                                                                                                                                                                                                                                                                                                                                                                                                                                                                                                                                                                                                                                                                                                                                                                                                                                                                                                                                                                                                                                                                                                                                                                                                                                                                                                                                                                                                                                                                                                                                                                                                                                                                                                                                                                                                                                                                                                                                                                                                                                                                                                                                                                                                                                                                                                                                                                                                                                                                                                                                                                                                                                                                                                                                                                                                                                                                                                                                 review  label\n",
              "0  b\"Why? Why did they make this movie? If Timothy Olyphant wasn't shirtless in it several times, there would be ABSOLUTELY no reason to watch this movie, ever. Um...Plot? Nope. Well-defined characters? nope. The only time I laughed was when my boyfriend made fun of the whole she-bang. P.S. Andy Dick? Nope.\"                                                                                                                                                                                                                                                                                                                                                                                                                                                                                                                                                                                                                                                                                                                                                                                                                                                                                                                                                                                                                                                                                                                                                                                                                                                                                                                                                                                                                                                                                                                                                                                                                                                                                                                                                                                                                                                                                                                                                                                                                                                                                                                                                                                                                                                                                                                                                                                                                                                                                                                                                                                                                                                                                                                                                                                                                                                                                                                                                                                                                                                                                                                                                                                                                                                                                                                                                                                                                                                                                                                                                                                                                                                                                                                                                                                                                                                                                                                                                                                                                    0    \n",
              "1  b\"Story starts slow and nothing funny happens for a while. All the action is in the end, but you won't have to laugh because the movie is funny, but because the story is pathetic.<br /><br />The funniest part is when Harvey 'I'm not Paranoia' Keitel really loses it and the judge starts a massacre. Oscars for this guy!\"                                                                                                                                                                                                                                                                                                                                                                                                                                                                                                                                                                                                                                                                                                                                                                                                                                                                                                                                                                                                                                                                                                                                                                                                                                                                                                                                                                                                                                                                                                                                                                                                                                                                                                                                                                                                                                                                                                                                                                                                                                                                                                                                                                                                                                                                                                                                                                                                                                                                                                                                                                                                                                                                                                                                                                                                                                                                                                                                                                                                                                                                                                                                                                                                                                                                                                                                                                                                                                                                                                                                                                                                                                                                                                                                                                                                                                                                                                                                                                                                      0    \n",
              "2  b\"The storyline was okay. Akshay Kumar was good as always and that was the only good thing about the movie. Kareena Kapoor looked bad. There was so hue and cry over her size zero but she did not looked good leaner. I don't know why the hell did Anil Kapoor accepted such a bad role. There was nothing much to do for him in the movie. Just because it is a Yashraj film does not means that an actor should accept the role however bad it is. Said Ali khan was alright. I think that it is high time that Indian directors and producers start thinking of Indian customers as intelligent lot. What are we ? fools!!!! What do they think, they will show 2 men taking on a SWAT squad to teeters and we will believe them. Is the Indian police so stupid that they are trying to nab some criminals.... they take an entire squad of 100 + policemen and no one was there to surround the palace. The action was crap and I have never seen such bad action. Akshay Kumar was between a circle of 30-40 policemen all shooting at him..... and he shooting back at them. None of the policemen's bullet touched him but he killed all the policemen. Crap. CRAP.<br /><br />I think the fight director who thought of this scene should take retirement.<br /><br />I strongly recommend NOT TO SEE THIS MOVIE.\"                                                                                                                                                                                                                                                                                                                                                                                                                                                                                                                                                                                                                                                                                                                                                                                                                                                                                                                                                                                                                                                                                                                                                                                                                                                                                                                                                                                                                                                                                                                                                                                                                                                                                                                                                                                                                                                                                                                                                                                                                                                                                                                                                                                                                                                                                                                                                                                                                                                                                                                                                                                                                                                                                                                                                                                                                                                                                                                                                                                                         0    \n",
              "3  b\"The Lady From Shanghai is weird even by the standards of its eminent director, Orson Welles, whose last Hollywood film this was for many a moon. It's a kind of post-modern film noir made during the period when more conventional films of this type were quite popular, and it concerns a happy go lucky Irish sailor (played by Welles) who falls in with a mysterious lady (Rita Hayworth, who was married to Welles at the time), and her crippled, and probably impotent husband, played with a brainy, malevolent gusto by Everett Sloan. A long sea voyage follows, with Welles in tow as bodyguard, and the plot thickens when Sloan's law partner (Glenn Anders) turns up and starts making trouble by giving odd speeches about suicide and other morbid topics that suggest that the man is on the verge of mental breakdown. A murder plot ensues, and all sorts of calamities follow for Welles and his employers, and at this point the story, fuzzy and told at a leisurely pace thus far, goes off the deep end, and the last part of the film consists of brilliant directorial set-pieces that seem to have been thrown in to give the movie some of the drive and urgency its story does not, by itself, possess, and the result is a very watchable and often pleasing at all times incomprehensible mess.<br /><br />It's hard to know what Welles was trying to do with this film aside from maybe resurrect his career in Hollywood by making a vehicle for his wife. But self-destruction intervenes, as it often does with Welles, and Miss Hayworth has never looked less fetching. That she is also cast as a femme fatale seems peculiar, as aside from her beauty her most appealing trait as a screen personality was lovableness, a quality she does not possess in this picture. The director himself is strangely unappealing and hammy at O'Hara, the (presumably) easygoing sailor, since Welles, for all his many gifts, was not known as an easy man to work with. This is a role that twenty or thirty years later Sean Connery or Robert Shaw might have been able to breath life into. Welles does not. The most interesting performance in the movie is Glenn Anders' as Grisby, Sloan's loony, treacherous law partner. Anders works wonders with the part, and is photographed to look bizarre, while his scenes end on odd, sour notes, and are often choppily edited; but for all this he manages to make Grisby's derangement palpable and disturbing, and anticipates, in a genteel way, the more flamboyant Method actors of the fifties, such as Timothy Carey.<br /><br />There is a question that nags me about this film: what was Welles trying to say? He was a highly talented and intelligent man, and tended to make statements in his movies, which, whether one agrees with his world view or not, were brilliantly put forth. I think I have an answer, or a partial one: Welles was summing up his movie career. He had reached the end of his rope in the Hollywood studio system he despised, and he knew it. The Lady From Shanghai isn't exactly a nose-thumbing at the studio moguls of the day, but I suspect that it is, in its portrait of amoral, rival big shot lawyers (read: producers) expressing Welles' opinion of the power brokers of Hollywood. That he presented himself as a rootless sailor is telling. Welles himself was certainly an inveterate traveler, and he rarely lived in one place for long. He was hired by a studio to provide it with a big, prestigious film (Citizen Kane), which caused a firestorm of controversy from which he never fully recovered. This may be the issue that dares not speak its name in this film, which is to say Welles' personal failure in not getting over the shock of his newness in the movie colony, and his inability to deliver the goods, as promised. The mere fact of him turning up in Hollywood, like his mere presence in the film, could not forestall disasters well beyond his control. That he presented himself in the movie as an amiable, naive outsider shows a lack of self-knowledge on Welles' part. He was much more of an inside player than he let on, and I imagine that he despised his knowledge of the worldlier aspects of life, and himself for knowing so much.\"  1    \n",
              "4  b'The Last Command (1928) is a silent film directed by Josef von Sternberg.It shows us Czarist General, Grand Duke Sergius Alexander (Emil Jannings) in his days of glory.In 1917 he had all the power but after the revolution and the collapse of Imperial Russia he has nothing.He also had the love of a woman, Natalie Dabrova (Evelyn Brent).About ten years later he applies for a small part in a film about the revolution.His old enemy Lev Andreyev (William Powell) is the director who gets to choose whether to hire him as a film extra or not.The Last Command is very good silent drama.Emil Jannings does memorable role work in the lead.Evelyn Brent is wonderful playing the woman lead.William Powell is great as always.There are plenty of scenes to remember in this movie.Like many scenes with Jannings and Brent.And then there is the ending with Powell and Jannings.This is a movie that touches in many parts.'                                                                                                                                                                                                                                                                                                                                                                                                                                                                                                                                                                                                                                                                                                                                                                                                                                                                                                                                                                                                                                                                                                                                                                                                                                                                                                                                                                                                                                                                                                                                                                                                                                                                                                                                                                                                                                                                                                                                                                                                                                                                                                                                                                                                                                                                                                                                                                                                                                                                                                                                                                                                                                                                                                                                                                                                                                                                                                                                                                                                                                                                                                                                                                                                                                                                                                                                                                                       1    "
            ]
          },
          "metadata": {
            "tags": []
          },
          "execution_count": 6
        }
      ]
    },
    {
      "cell_type": "markdown",
      "metadata": {
        "id": "Jhela5rmfdi_"
      },
      "source": [
        "## Create TFRecord dataset"
      ]
    },
    {
      "cell_type": "code",
      "metadata": {
        "id": "qGQXWXW3YBvH"
      },
      "source": [
        "def create_example(item):\n",
        "  review, label = item\n",
        "  return Example(\n",
        "      features=Features(\n",
        "          feature={\n",
        "              \"review\": Feature(bytes_list = BytesList(value=[review.numpy()])),\n",
        "              \"label\": Feature(int64_list = Int64List(value=[label]))\n",
        "          }\n",
        "      )\n",
        "  )"
      ],
      "execution_count": 7,
      "outputs": []
    },
    {
      "cell_type": "code",
      "metadata": {
        "id": "yrSpmElveG8J"
      },
      "source": [
        "def write_record(name, dataset, n_shards):\n",
        "  paths = [\"/content/drive/MyDrive/data/{}.tfrecord-{:02d}-of-{:02d}\".format(name, index, n_shards) for index in range(n_shards)]\n",
        "  writers = [tf.io.TFRecordWriter(path) for path in paths]\n",
        "  print(paths)\n",
        "  index = 0\n",
        "  for item in dataset:\n",
        "    writer = writers[index % n_shards]\n",
        "    writer.write(create_example(item).SerializeToString())\n",
        "    index = index+1"
      ],
      "execution_count": 8,
      "outputs": []
    },
    {
      "cell_type": "code",
      "metadata": {
        "id": "8-Hc5NOBeczB",
        "colab": {
          "base_uri": "https://localhost:8080/"
        },
        "outputId": "6af41aba-7c2f-4613-e8ff-da2b907c5e0c"
      },
      "source": [
        "write_record(\"train-set\", training_set, 5)"
      ],
      "execution_count": 9,
      "outputs": [
        {
          "output_type": "stream",
          "text": [
            "['/content/drive/MyDrive/data/train-set.tfrecord-00-of-05', '/content/drive/MyDrive/data/train-set.tfrecord-01-of-05', '/content/drive/MyDrive/data/train-set.tfrecord-02-of-05', '/content/drive/MyDrive/data/train-set.tfrecord-03-of-05', '/content/drive/MyDrive/data/train-set.tfrecord-04-of-05']\n"
          ],
          "name": "stdout"
        }
      ]
    },
    {
      "cell_type": "code",
      "metadata": {
        "colab": {
          "base_uri": "https://localhost:8080/"
        },
        "id": "jCjKjMN0gmSl",
        "outputId": "3f2d7a25-93a2-4f14-df0d-b112306d1586"
      },
      "source": [
        "write_record(\"test-set\", test_set, 2)\n",
        "write_record(\"validate-set\", validation_set, 2)"
      ],
      "execution_count": 10,
      "outputs": [
        {
          "output_type": "stream",
          "text": [
            "['/content/drive/MyDrive/data/test-set.tfrecord-00-of-02', '/content/drive/MyDrive/data/test-set.tfrecord-01-of-02']\n",
            "['/content/drive/MyDrive/data/validate-set.tfrecord-00-of-02', '/content/drive/MyDrive/data/validate-set.tfrecord-01-of-02']\n"
          ],
          "name": "stdout"
        }
      ]
    },
    {
      "cell_type": "markdown",
      "metadata": {
        "id": "k7FtOozahuPn"
      },
      "source": [
        "Define constants for paths"
      ]
    },
    {
      "cell_type": "code",
      "metadata": {
        "id": "sjoPWKYhhfcz"
      },
      "source": [
        "TRAIN_PATHS = ['/content/drive/MyDrive/data/train-set.tfrecord-00-of-05', '/content/drive/MyDrive/data/train-set.tfrecord-01-of-05', '/content/drive/MyDrive/data/train-set.tfrecord-02-of-05', '/content/drive/MyDrive/data/train-set.tfrecord-03-of-05', '/content/drive/MyDrive/data/train-set.tfrecord-04-of-05']\n",
        "TEST_PATHS = ['/content/drive/MyDrive/data/test-set.tfrecord-00-of-02', '/content/drive/MyDrive/data/test-set.tfrecord-01-of-02']\n",
        "VALIDATE_PATHS = ['/content/drive/MyDrive/data/validate-set.tfrecord-00-of-02', '/content/drive/MyDrive/data/validate-set.tfrecord-01-of-02']"
      ],
      "execution_count": 11,
      "outputs": []
    },
    {
      "cell_type": "code",
      "metadata": {
        "id": "_SqavHTKhrtE"
      },
      "source": [
        "def preprocess_tfrecord(record):\n",
        "  feature_desc={\n",
        "      \"review\": tf.io.FixedLenFeature([], tf.string, b\"\"),\n",
        "      \"label\": tf.io.FixedLenFeature([], tf.int64, -1)\n",
        "  }\n",
        "  example = tf.io.parse_single_example(record, feature_desc)\n",
        "  return example['review'], example['label']\n",
        "\n",
        "def get_tensor_dataset_from_path(paths):\n",
        "  dataset = tf.data.TFRecordDataset(paths, num_parallel_reads=10)\n",
        "  dataset = dataset.map(preprocess_tfrecord)\n",
        "  return dataset.batch(32).prefetch(1)"
      ],
      "execution_count": 12,
      "outputs": []
    },
    {
      "cell_type": "code",
      "metadata": {
        "id": "syuNldSond1Q"
      },
      "source": [
        "TRAIN_SET = get_tensor_dataset_from_path(TRAIN_PATHS)"
      ],
      "execution_count": 13,
      "outputs": []
    },
    {
      "cell_type": "code",
      "metadata": {
        "id": "IVJz9GoIovP9"
      },
      "source": [
        "VAL_SET = get_tensor_dataset_from_path(VALIDATE_PATHS)\n",
        "TST_SET = get_tensor_dataset_from_path(TEST_PATHS)"
      ],
      "execution_count": 14,
      "outputs": []
    },
    {
      "cell_type": "code",
      "metadata": {
        "id": "pOBn3pqSpAs9"
      },
      "source": [
        "\n",
        "def text_pre_process(X_batch, total_slots=50):\n",
        "    # shape = tf.shape(X_batch) * tf.constant([1, 0]) + tf.constant([0, total_slots])\n",
        "    shape = tf.shape(X_batch) * tf.constant([1, 0]) + tf.constant([0, total_slots])\n",
        "    Z = tf.strings.substr(X_batch, 0, 300)\n",
        "    Z = tf.strings.lower(Z)\n",
        "    Z = tf.strings.regex_replace(Z, b\"<br\\\\s*/?>\", b\" \")\n",
        "    Z = tf.strings.regex_replace(Z, b\"[^a-z]\", b\" \")\n",
        "    Z = tf.strings.split(Z)\n",
        "    return Z.to_tensor(shape=shape, default_value=b\"<pad>\")"
      ],
      "execution_count": 15,
      "outputs": []
    },
    {
      "cell_type": "code",
      "metadata": {
        "id": "zvIEzCV1ho4o"
      },
      "source": [
        "from collections import Counter\n",
        "\n",
        "def get_vol(X: tf.Tensor, most_common: int):\n",
        "  Y = X.numpy()\n",
        "  ct = Counter()\n",
        "  for review in Y:\n",
        "    for word in review:\n",
        "      ct[word]+=1\n",
        "  return [wd for wd, count in ct.most_common(most_common)]\n"
      ],
      "execution_count": 16,
      "outputs": []
    },
    {
      "cell_type": "code",
      "metadata": {
        "id": "Axe5dCS_kMHB"
      },
      "source": [
        "def extract_vol(X: tf.Tensor, max_words_per_review, max_vol_size):\n",
        "  return get_vol(text_pre_process(X, max_words_per_review), max_vol_size)"
      ],
      "execution_count": 17,
      "outputs": []
    },
    {
      "cell_type": "code",
      "metadata": {
        "id": "CW-cq1Elf654"
      },
      "source": [
        "text_example = tf.constant([\n",
        "                            \"this is an example\", \"I feel very good\"\n",
        "])"
      ],
      "execution_count": 18,
      "outputs": []
    },
    {
      "cell_type": "code",
      "metadata": {
        "colab": {
          "base_uri": "https://localhost:8080/"
        },
        "id": "rsIYC3gEgApz",
        "outputId": "cf3ab773-fb9b-4d4c-a27e-b0ed932cba2d"
      },
      "source": [
        "extract_vol(text_example, 100, 1000)"
      ],
      "execution_count": 19,
      "outputs": [
        {
          "output_type": "execute_result",
          "data": {
            "text/plain": [
              "[b'<pad>', b'this', b'is', b'an', b'example', b'i', b'feel', b'very', b'good']"
            ]
          },
          "metadata": {
            "tags": []
          },
          "execution_count": 19
        }
      ]
    },
    {
      "cell_type": "markdown",
      "metadata": {
        "id": "cyr7VhxjlIH5"
      },
      "source": [
        "Need to specify the data type for Layer. The default type is `float`"
      ]
    },
    {
      "cell_type": "code",
      "metadata": {
        "id": "LeoA098-grXa"
      },
      "source": [
        "class TextVectorization(keras.layers.Layer):\n",
        "  def __init__(self, **kwargs):\n",
        "    super().__init__(dtype=tf.string, **kwargs)\n",
        "  \n",
        "  def fit(self, examples):\n",
        "    words = extract_vol(examples, 100, 1000)\n",
        "    size = len(words)\n",
        "    word_ids = tf.range(size, dtype=tf.int64)\n",
        "    self.total_size = size + math.ceil(size*0.1)\n",
        "    vocab_init = tf.lookup.KeyValueTensorInitializer(tf.constant(words), word_ids)\n",
        "    self.table = tf.lookup.StaticVocabularyTable(vocab_init, math.ceil(size * 0.1))\n",
        "  \n",
        "  def call(self, data):\n",
        "    result = text_pre_process(data, 100)\n",
        "    return self.table.lookup(result)\n",
        "\n",
        "  def get_total_size(self):\n",
        "    return self.total_size"
      ],
      "execution_count": 20,
      "outputs": []
    },
    {
      "cell_type": "code",
      "metadata": {
        "id": "-mjiDZp-nZvP"
      },
      "source": [
        "class BagOfWords(keras.layers.Layer):\n",
        "  def __init__(self, depth, **kwargs):\n",
        "    self.depth = depth\n",
        "    super().__init__(**kwargs)\n",
        "  \n",
        "  def call(self, data):\n",
        "    one_hot_code = tf.one_hot(data, self.depth)\n",
        "    return tf.reduce_sum(one_hot_code, axis=1)"
      ],
      "execution_count": 21,
      "outputs": []
    },
    {
      "cell_type": "markdown",
      "metadata": {
        "id": "1A_Wvt8_39V4"
      },
      "source": [
        "Get some samples "
      ]
    },
    {
      "cell_type": "code",
      "metadata": {
        "id": "d9b3AvUX1IXJ"
      },
      "source": [
        "sample = TRAIN_SET.take(50).map(lambda review, label: review)"
      ],
      "execution_count": 23,
      "outputs": []
    },
    {
      "cell_type": "code",
      "metadata": {
        "id": "LgpbJefK1y-g"
      },
      "source": [
        "concatenated_sample_reviews = np.concatenate(list(sample.as_numpy_iterator()), axis=0)"
      ],
      "execution_count": 24,
      "outputs": []
    },
    {
      "cell_type": "markdown",
      "metadata": {
        "id": "56oJJjeK4XQp"
      },
      "source": [
        "Create TextVencorization layer and bag of words layer"
      ]
    },
    {
      "cell_type": "code",
      "metadata": {
        "id": "maHnIUal3YcY"
      },
      "source": [
        "tv = TextVectorization(input_shape=[])\n",
        "tv.fit(concatenated_sample_reviews)"
      ],
      "execution_count": 25,
      "outputs": []
    },
    {
      "cell_type": "code",
      "metadata": {
        "id": "-SvuQLGW353C"
      },
      "source": [
        "bow = BagOfWords(tv.get_total_size())"
      ],
      "execution_count": 26,
      "outputs": []
    },
    {
      "cell_type": "code",
      "metadata": {
        "colab": {
          "base_uri": "https://localhost:8080/"
        },
        "id": "1G_3z1TC-PM1",
        "outputId": "bc24965f-052f-47b5-b08d-333a68535b76"
      },
      "source": [
        "tv(concatenated_sample_reviews)"
      ],
      "execution_count": 27,
      "outputs": [
        {
          "output_type": "execute_result",
          "data": {
            "text/plain": [
              "<tf.Tensor: shape=(1600, 100), dtype=int64, numpy=\n",
              "array([[  82,  215, 1077, ...,    0,    0,    0],\n",
              "       [  51,   23,  260, ...,    0,    0,    0],\n",
              "       [ 157,  745,    1, ...,    0,    0,    0],\n",
              "       ...,\n",
              "       [ 150, 1016,  657, ...,    0,    0,    0],\n",
              "       [1079,  630,    9, ...,    0,    0,    0],\n",
              "       [   1, 1059, 1038, ...,    0,    0,    0]])>"
            ]
          },
          "metadata": {
            "tags": []
          },
          "execution_count": 27
        }
      ]
    },
    {
      "cell_type": "code",
      "metadata": {
        "id": "G9iQNrUs4UMv"
      },
      "source": [
        "model = keras.models.Sequential([\n",
        "                                 tv,\n",
        "                                 bow,\n",
        "                                 Dense(100, activation=keras.activations.relu),\n",
        "                                 Dense(1, activation=keras.activations.sigmoid)\n",
        "])"
      ],
      "execution_count": 28,
      "outputs": []
    },
    {
      "cell_type": "code",
      "metadata": {
        "id": "K2-ajJ6i441s"
      },
      "source": [
        "model.compile(optimizer=\"nadam\", loss=keras.losses.binary_crossentropy, metrics=[keras.metrics.binary_accuracy])"
      ],
      "execution_count": 29,
      "outputs": []
    },
    {
      "cell_type": "code",
      "metadata": {
        "colab": {
          "base_uri": "https://localhost:8080/"
        },
        "id": "AL9x3WckQs1U",
        "outputId": "8102513c-7903-455d-c32e-ba2be7176903"
      },
      "source": [
        "model.fit(TRAIN_SET, epochs=5, validation_data=VAL_SET)"
      ],
      "execution_count": 30,
      "outputs": [
        {
          "output_type": "stream",
          "text": [
            "Epoch 1/5\n",
            "782/782 [==============================] - 5s 7ms/step - loss: 0.5450 - binary_accuracy: 0.7166 - val_loss: 0.5155 - val_binary_accuracy: 0.7337\n",
            "Epoch 2/5\n",
            "782/782 [==============================] - 5s 6ms/step - loss: 0.4939 - binary_accuracy: 0.7542 - val_loss: 0.5121 - val_binary_accuracy: 0.7363\n",
            "Epoch 3/5\n",
            "782/782 [==============================] - 5s 6ms/step - loss: 0.4789 - binary_accuracy: 0.7632 - val_loss: 0.5118 - val_binary_accuracy: 0.7359\n",
            "Epoch 4/5\n",
            "782/782 [==============================] - 5s 6ms/step - loss: 0.4618 - binary_accuracy: 0.7738 - val_loss: 0.5120 - val_binary_accuracy: 0.7377\n",
            "Epoch 5/5\n",
            "782/782 [==============================] - 5s 6ms/step - loss: 0.4396 - binary_accuracy: 0.7876 - val_loss: 0.5160 - val_binary_accuracy: 0.7383\n"
          ],
          "name": "stdout"
        },
        {
          "output_type": "execute_result",
          "data": {
            "text/plain": [
              "<tensorflow.python.keras.callbacks.History at 0x7f00a92d3e80>"
            ]
          },
          "metadata": {
            "tags": []
          },
          "execution_count": 30
        }
      ]
    }
  ]
}