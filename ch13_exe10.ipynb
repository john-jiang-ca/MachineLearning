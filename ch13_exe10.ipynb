{
  "nbformat": 4,
  "nbformat_minor": 0,
  "metadata": {
    "colab": {
      "name": "ch13_exe10.ipynb",
      "provenance": [],
      "collapsed_sections": [],
      "toc_visible": true,
      "mount_file_id": "10-An_Ry53ScPn8_68JmOu52Azmu3_FWW",
      "authorship_tag": "ABX9TyPiLNJuSf/OV1/g8DqspkTv",
      "include_colab_link": true
    },
    "kernelspec": {
      "name": "python3",
      "display_name": "Python 3"
    }
  },
  "cells": [
    {
      "cell_type": "markdown",
      "metadata": {
        "id": "view-in-github",
        "colab_type": "text"
      },
      "source": [
        "<a href=\"https://colab.research.google.com/github/john-jiang-ca/MachineLearning/blob/master/ch13_exe10.ipynb\" target=\"_parent\"><img src=\"https://colab.research.google.com/assets/colab-badge.svg\" alt=\"Open In Colab\"/></a>"
      ]
    },
    {
      "cell_type": "code",
      "metadata": {
        "id": "fwm5ONgZU8n3"
      },
      "source": [
        "import tensorflow as tf\n",
        "from tensorflow import keras\n",
        "import numpy as np\n",
        "import os\n",
        "from tensorflow import keras\n",
        "from keras.layers import Dense, Flatten\n",
        "from pathlib import Path\n",
        "from matplotlib import pyplot as plt\n",
        "import pandas as pd\n",
        "import math\n",
        "\n",
        "\n",
        "from tensorflow.train import Example, Features, Feature, Int64List, BytesList"
      ],
      "execution_count": 1,
      "outputs": []
    },
    {
      "cell_type": "markdown",
      "metadata": {
        "id": "7GemRrClVbnE"
      },
      "source": [
        "# Download data and split the paths into training, validate and test set"
      ]
    },
    {
      "cell_type": "code",
      "metadata": {
        "id": "RuobksOhVDuW",
        "colab": {
          "base_uri": "https://localhost:8080/"
        },
        "outputId": "99b78e7e-4b0c-49c3-a08d-d78eeb3ce11d"
      },
      "source": [
        "DOWNLOAD_ROOT = \"http://ai.stanford.edu/~amaas/data/sentiment/\"\n",
        "FILENAME = \"aclImdb_v1.tar.gz\"\n",
        "filepath = keras.utils.get_file(FILENAME, DOWNLOAD_ROOT + FILENAME, extract=True)\n",
        "path = Path(filepath).parent / \"aclImdb\"\n",
        "path\n"
      ],
      "execution_count": 2,
      "outputs": [
        {
          "output_type": "stream",
          "text": [
            "Downloading data from http://ai.stanford.edu/~amaas/data/sentiment/aclImdb_v1.tar.gz\n",
            "84131840/84125825 [==============================] - 6s 0us/step\n"
          ],
          "name": "stdout"
        },
        {
          "output_type": "execute_result",
          "data": {
            "text/plain": [
              "PosixPath('/root/.keras/datasets/aclImdb')"
            ]
          },
          "metadata": {
            "tags": []
          },
          "execution_count": 2
        }
      ]
    },
    {
      "cell_type": "code",
      "metadata": {
        "id": "tgtuCU-cVM1i"
      },
      "source": [
        "def get_paths(path: Path):\n",
        "  return [str(p) for p in path.glob(\"*.txt\")]\n",
        "\n",
        "train_neg = get_paths(path / \"train\" / \"neg\")\n",
        "train_pos = get_paths(path / \"train\" / \"pos\")\n",
        "test_neg = get_paths(path / \"test\" / \"neg\")\n",
        "test_pos = get_paths(path / \"test\" / \"pos\")\n",
        "val_neg = test_neg[:7500]\n",
        "val_pos = test_pos[:7500]\n",
        "test_neg = test_neg[7500:]\n",
        "test_pos = test_pos[7500:]"
      ],
      "execution_count": 3,
      "outputs": []
    },
    {
      "cell_type": "markdown",
      "metadata": {
        "id": "trT9FWmMWPMF"
      },
      "source": [
        "# Create dataset that can be executed out core"
      ]
    },
    {
      "cell_type": "code",
      "metadata": {
        "id": "_WBzygHkVhQx"
      },
      "source": [
        "def build_dataset_without_in_mem_fit(positive_paths, negative_paths):\n",
        "  pos_set = tf.data.TextLineDataset(positive_paths, num_parallel_reads=10).map(lambda review: (review, 1))\n",
        "  neg_set = tf.data.TextLineDataset(negative_paths, num_parallel_reads=10).map(lambda review: (review, 0))\n",
        "  return tf.data.Dataset.concatenate(pos_set, neg_set)"
      ],
      "execution_count": 4,
      "outputs": []
    },
    {
      "cell_type": "code",
      "metadata": {
        "id": "JrsxnYjkWALw"
      },
      "source": [
        "training_set = build_dataset_without_in_mem_fit(train_pos, train_neg).shuffle(len(train_pos)*2).prefetch(1)\n",
        "validation_set = build_dataset_without_in_mem_fit(val_pos, val_neg).shuffle(len(train_pos)*2).prefetch(1)\n",
        "test_set = build_dataset_without_in_mem_fit(test_pos, test_neg).shuffle(len(train_pos)*2).prefetch(1)"
      ],
      "execution_count": 5,
      "outputs": []
    },
    {
      "cell_type": "markdown",
      "metadata": {
        "id": "jNdqpunTWz4z"
      },
      "source": [
        "## Explore what training set\n",
        "\n",
        "*   Take some data from the training set\n",
        "*   Create a pandas Datafraem using the data taken above\n",
        "*  Display the data\n",
        "\n"
      ]
    },
    {
      "cell_type": "code",
      "metadata": {
        "colab": {
          "base_uri": "https://localhost:8080/",
          "height": 955
        },
        "id": "6VAGifdTWrfv",
        "outputId": "6f21c013-28a0-4239-e409-7db9165c9b9f"
      },
      "source": [
        "demo_data = training_set.take(5)\n",
        "data = []\n",
        "for item in demo_data:\n",
        "  review, label = item\n",
        "  data.append({\n",
        "  \"review\": review.numpy(),\n",
        "  \"label\": label.numpy()\n",
        "  })\n",
        "df = pd.DataFrame(data)\n",
        "pd.set_option('display.max_colwidth', -1)\n",
        "df.head()"
      ],
      "execution_count": 6,
      "outputs": [
        {
          "output_type": "stream",
          "text": [
            "/usr/local/lib/python3.6/dist-packages/ipykernel_launcher.py:10: FutureWarning: Passing a negative integer is deprecated in version 1.0 and will not be supported in future version. Instead, use None to not limit the column width.\n",
            "  # Remove the CWD from sys.path while we load stuff.\n"
          ],
          "name": "stderr"
        },
        {
          "output_type": "execute_result",
          "data": {
            "text/html": [
              "<div>\n",
              "<style scoped>\n",
              "    .dataframe tbody tr th:only-of-type {\n",
              "        vertical-align: middle;\n",
              "    }\n",
              "\n",
              "    .dataframe tbody tr th {\n",
              "        vertical-align: top;\n",
              "    }\n",
              "\n",
              "    .dataframe thead th {\n",
              "        text-align: right;\n",
              "    }\n",
              "</style>\n",
              "<table border=\"1\" class=\"dataframe\">\n",
              "  <thead>\n",
              "    <tr style=\"text-align: right;\">\n",
              "      <th></th>\n",
              "      <th>review</th>\n",
              "      <th>label</th>\n",
              "    </tr>\n",
              "  </thead>\n",
              "  <tbody>\n",
              "    <tr>\n",
              "      <th>0</th>\n",
              "      <td>b'One star for the \"plot\". One star for the acting. One star for the dubbing into squeaky-voiced American. Five stars for Monica Broeke and Inge Maria Granzow, with their propensity for taking all their clothes off. And ten out of ten for the divine Emmanuelle B\\xc3\\xa9art, two years before she made \\'Manon des sources\\'. B\\xc3\\xa9art also undresses a couple of times, but even fully-clothed her presence is enough to make this film eminently watchable. Watch out for the scene where she tells her friend about the three \"first times\" for a girl. It\\'s corny, but still far more erotic than the rather laughably choreographed \"love scenes\" featuring Broeke, Granzow and Patrick Bauchau. Incidentally, the cinematography is not great; the stills for the closing credits are a better indication of what David Hamilton is capable of.'</td>\n",
              "      <td>0</td>\n",
              "    </tr>\n",
              "    <tr>\n",
              "      <th>1</th>\n",
              "      <td>b\"I read James Hawes book. It was pretty neat, not great, but entertaining enough. Without having read the book I wouldn't have had the slightest idea what was going on, and it was still a stretch with that knowledge.&lt;br /&gt;&lt;br /&gt;Literally every element of this film is abysmal in ways I do not have the capacity to describe. Half digested fish could have made a better film with matchsticks and dayglo lipstick.&lt;br /&gt;&lt;br /&gt;Never before or since as a film made me feel so angry. The Mattress sequels came closest, but even they never reached such depths of utterly putrid nauseating appallingness that this bilge did.&lt;br /&gt;&lt;br /&gt;Since wasting 90 minutes of my life witnessing this plague on human kind I am now unable to even look at any book by James Hawes without feeling angry. That is the depth of hatred I have for this piece of sh*t. No, that's unfair. Let me apologise to all fecal matter for comparing you to the otherworldly evil that is Rancid Aluminium.&lt;br /&gt;&lt;br /&gt;Plain and simply a cancer on the world of cinema.\"</td>\n",
              "      <td>0</td>\n",
              "    </tr>\n",
              "    <tr>\n",
              "      <th>2</th>\n",
              "      <td>b'Like others, I have seen and studied most of the books and films concerning the Clutter Killings, including a few dramatic works thematically based on the actions and psycho-mythology of the participants to the crime -- including Capote himself. As to Capote, I cannot forgive him for willfully withholding Perry Smith\\'s confessions, intimacies and writings from even the defense counsels. I believe truths and facts Capote \"reserved\" for his \"book,\" which required for Capote two guilty verdicts and capital punishment, would almost certainly have sustained a successful insanity defense for Perry Smith even under the old McNaughton Rule. Capote himself could never write another major literary work after \"In Cold Blood.\" Shame and guilt. In my opinion, he willingly encouraged and planned the brutal capital punishment to provide the spectacular ending he required for his book/drama. To him, both men HAD to die for his book to succeed. The book had to justify itself by pretending it was about the horror of capital punishment. His actions and silence assured that ice-cold conclusion.&lt;br /&gt;&lt;br /&gt;Capote\\'s book is not truth. It is not factual or journalistic. It is drama and melodrama spiced with his own creatively psychotic imagination. What most people consider the virtues of the contemporaneous first movie are stark images of Capote\\'s mind, which may have been the most cold-blooded aspect of all. No wonder viewers ironically but necessarily prefer Blake\\'s performance. That actor IS the nightmare from Capote\\'s dishonest imaginings.&lt;br /&gt;&lt;br /&gt;So who is to say how the two killers should be played? Who is to judge what could make an essentially poetic psychotic snap from excessive courtesy and kindness to \"do it now\" killing? I agree with the few who see in Eric Roberts\\' work a magnificent performance, Shakespearean in its range, yet played with heartbreaking sincerity. Anthony Edwards takes a much safer \"attitude mode\" to create a smarmy Hickok; but he is one-dimensional and boring, with only a few notes in his television range. Roberts is almost four-dimensional, adding physical weakness and agony to a powerful animal body, a Frankenstein Creature who thinks in poetry and knows exactly what NOT to do. Like Leopold apropos Loeb, Robert\\'s Perry Smith is hopelessly in love with an evil man. Without Hickok or a man of his particularities, Perry Smith would not have brought his psychotic mind into a world of horrors. He fears himself more than he fears anything else in life.&lt;br /&gt;&lt;br /&gt;Given the freedom from Capote\\'s death grip on the consciousness of the Clutter killings, Roberts and Edwards are free to create original personalities and psychoses to craft a different and new production of the drama. Same facts, some of the same lines from the case record, but deeper, more complex, with clearly titanic psychotic stresses -- indeed Roberts is so good at this fluidic madness that he physically and facially demonstrates in every moment how little awareness he has of where or who he is.&lt;br /&gt;&lt;br /&gt;What many of our reviewers dislike about this film, Roberts in particular, is that cold-blooded killing isn\\'t shown the way they expect and have been manipulated to demand. That is because here we are seeing a far more profoundly realistic \"interpretation of life and death\" than Capote could ever create -- a real Tragedy.&lt;br /&gt;&lt;br /&gt;The actual cold-blooded killer, Mr. Capote, and his hypocritically artistic \"non-fiction novel\" do not control these interpretations and performances.&lt;br /&gt;&lt;br /&gt;If \"In Cold Blood\" and Capote\\'s effect on life, literature and truth matters as much as scholars say, then it takes guts as well as talent to portray the truth, or a version of the truth, that is not the rank, cowardly lie drawn up from the fathoms of Capote\\'s own abyss.'</td>\n",
              "      <td>1</td>\n",
              "    </tr>\n",
              "    <tr>\n",
              "      <th>3</th>\n",
              "      <td>b\"After having seen and loved Postal (yes, I actually loved Postal), I decided to try another Uwe Boll film and I picked out Seed because I happened to stumble on it in a local DVD-store and it's supposed to be one of his better films.&lt;br /&gt;&lt;br /&gt;While the first 10 to 15 minutes of the film were very promising and seemed like the beginning of a not too mainstream psychological thriller, it soon went downhill from there and eventually degraded into one of the most generic slasher films I've seen so far, including a massive amount of plot holes, unrealistic emotional responses and sub-par acting. It seems like Boll tried his best to come up with a decent plot but after a while just gave up on it. Maybe he should stick to comedy?! The few good things about this film is that he does manage to create an overall creepy atmosphere, that the special effects are better than I expected and the soundtrack does go well with the overall atmosphere, but the unbalanced pacing of this film combined with the utter generic nature thereof makes he last half hour quite tedious to watch, which ruined my experience altogether. There are a very fairly well done shocking scenes, but they seem to be there for the shock value alone. And let's not forget the camera work that was pretty nauseating at times.&lt;br /&gt;&lt;br /&gt;I hope Uwe Boll will one day learn what makes a good film, because between a lot of horrible films he does seem to make a decent film every now and then. Seed just isn't one of those.\"</td>\n",
              "      <td>0</td>\n",
              "    </tr>\n",
              "    <tr>\n",
              "      <th>4</th>\n",
              "      <td>b'David Lynch usually makes films that resemble puzzles put together the wrong way. They are interesting to look at and think about but they really don\\'t gel in your mind. Perhaps art will always mean the most to its creator.&lt;br /&gt;&lt;br /&gt;The Straight Story is not a typical David Lynch film. Not that there\\'s anything typical about them anyway. It\\'s an odyssey through rural America. A real life journey Alvin Straight took on a lawn mower to get to his brothers house. He rode 300 miles from Laurens, Iowa to Mt. Zion, Wisconsin to make amends to his sick brother for past offenses.&lt;br /&gt;&lt;br /&gt;At the heart of this film is sweet voiced Richard Farnsworth. He brings Alvin Straight right to us in a simple and honest way. The fact that the film is slow paced matches Alvin\\'s slow journey toward realization.&lt;br /&gt;&lt;br /&gt;Along the way Alvin meets a confused and frightened young girl. She is pregnant and has decided to run away from her situation. After listening to Alvin speak about family she reconsiders.&lt;br /&gt;&lt;br /&gt;Later Alvin witnesses a distraught woman kill a deer with her car. She complains that she has killed several and leaves. Alvin feels bad but is smart enough to cook up some dear meat that night.&lt;br /&gt;&lt;br /&gt;Later Alvin\\'s lawn mower loses its brakes and nearly kills him. A nice man and his wife let him stay in their yard while he gets it fixed. They even let him call his sweet but slow daughter, nicely played by Sissy Spacek, whose haunted by a terrible tragedy in her own past. Alvin insists on paying for the call. The man even offers to drive Alvin to his brothers with pleasure. Alvin declines with thanks.&lt;br /&gt;&lt;br /&gt;While Alvin waits he also goes off to a bar with a kindly old man as they discuss the harshness of war and the price it took on their souls. Alvin even confesses a fatal mistake he made as a sniper that has forever haunted him.&lt;br /&gt;&lt;br /&gt;Alvin also encounters two bickering brothers who\\'ve repaired his lawn mower. He talks them down in price wisely calling them on their high labor and repair costs. He even helps them to appreciate one another learning from his own mistakes with his brother.&lt;br /&gt;&lt;br /&gt;The night before Alvin leaves the man\\'s yard he takes his hat off to him. The man tells him it was an honor having him stay and asks Alvin to write to him. This scene is perfect in it\\'s simplicity. It\\'s heartfelt because it\\'s so straight, so real.&lt;br /&gt;&lt;br /&gt;The journey continues and we can\\'t help to get more and more involved with it. We want Alvin to get to his brothers. We want him to make amends. We want to know this world is full of forgiveness.&lt;br /&gt;&lt;br /&gt;This was Richard Farnsworth at his best. It was his last film and his performance was amazing. You can\\'t help but to understand his pride, to listen to his wisdom, and to ultimately feel his pain. One becomes as taken with him as the man who offers him his back yard to stay in.&lt;br /&gt;&lt;br /&gt;If there\\'s justice in the afterlife then Alvin Straight, his brother, and Richard Farnsworth are together sitting at a bar. I can picture them discussing their lives, regrets, hopes, and joys. As Alvin says in the film, \"My brother and I used to look up at the stars.\" Well, I know they all are with the best view in the house.'</td>\n",
              "      <td>1</td>\n",
              "    </tr>\n",
              "  </tbody>\n",
              "</table>\n",
              "</div>"
            ],
            "text/plain": [
              "                                                                                                                                                                                                                                                                                                                                                                                                                                                                                                                                                                                                                                                                                                                                                                                                                                                                                                                                                                                                                                                                                                                                                                                                                                                                                                                                                                                                                                                                                                                                                                                                                                                                                                                                                                                                                                                                                                                                                                                                                                                                                                                                                                                                                                                                                                                                                                                                                                                                                                                                                                                                                                                                                                                                                                                                                                                                                                                                                                                                                                                                                                                                                                                                                                                                                                                                                                                                                                                                                                                                                                                                                                                                                                                                                                                                                                                                                                                                                                     review  label\n",
              "0  b'One star for the \"plot\". One star for the acting. One star for the dubbing into squeaky-voiced American. Five stars for Monica Broeke and Inge Maria Granzow, with their propensity for taking all their clothes off. And ten out of ten for the divine Emmanuelle B\\xc3\\xa9art, two years before she made \\'Manon des sources\\'. B\\xc3\\xa9art also undresses a couple of times, but even fully-clothed her presence is enough to make this film eminently watchable. Watch out for the scene where she tells her friend about the three \"first times\" for a girl. It\\'s corny, but still far more erotic than the rather laughably choreographed \"love scenes\" featuring Broeke, Granzow and Patrick Bauchau. Incidentally, the cinematography is not great; the stills for the closing credits are a better indication of what David Hamilton is capable of.'                                                                                                                                                                                                                                                                                                                                                                                                                                                                                                                                                                                                                                                                                                                                                                                                                                                                                                                                                                                                                                                                                                                                                                                                                                                                                                                                                                                                                                                                                                                                                                                                                                                                                                                                                                                                                                                                                                                                                                                                                                                                                                                                                                                                                                                                                                                                                                                                                                                                                                                                                                                                                                                                                                                                                                                                                                                                                                                                                                                                                                                                                                         0    \n",
              "1  b\"I read James Hawes book. It was pretty neat, not great, but entertaining enough. Without having read the book I wouldn't have had the slightest idea what was going on, and it was still a stretch with that knowledge.<br /><br />Literally every element of this film is abysmal in ways I do not have the capacity to describe. Half digested fish could have made a better film with matchsticks and dayglo lipstick.<br /><br />Never before or since as a film made me feel so angry. The Mattress sequels came closest, but even they never reached such depths of utterly putrid nauseating appallingness that this bilge did.<br /><br />Since wasting 90 minutes of my life witnessing this plague on human kind I am now unable to even look at any book by James Hawes without feeling angry. That is the depth of hatred I have for this piece of sh*t. No, that's unfair. Let me apologise to all fecal matter for comparing you to the otherworldly evil that is Rancid Aluminium.<br /><br />Plain and simply a cancer on the world of cinema.\"                                                                                                                                                                                                                                                                                                                                                                                                                                                                                                                                                                                                                                                                                                                                                                                                                                                                                                                                                                                                                                                                                                                                                                                                                                                                                                                                                                                                                                                                                                                                                                                                                                                                                                                                                                                                                                                                                                                                                                                                                                                                                                                                                                                                                                                                                                                                                                                                                                                                                                                                                                                                                                                                                                                                                                                                                                                                                                         0    \n",
              "2  b'Like others, I have seen and studied most of the books and films concerning the Clutter Killings, including a few dramatic works thematically based on the actions and psycho-mythology of the participants to the crime -- including Capote himself. As to Capote, I cannot forgive him for willfully withholding Perry Smith\\'s confessions, intimacies and writings from even the defense counsels. I believe truths and facts Capote \"reserved\" for his \"book,\" which required for Capote two guilty verdicts and capital punishment, would almost certainly have sustained a successful insanity defense for Perry Smith even under the old McNaughton Rule. Capote himself could never write another major literary work after \"In Cold Blood.\" Shame and guilt. In my opinion, he willingly encouraged and planned the brutal capital punishment to provide the spectacular ending he required for his book/drama. To him, both men HAD to die for his book to succeed. The book had to justify itself by pretending it was about the horror of capital punishment. His actions and silence assured that ice-cold conclusion.<br /><br />Capote\\'s book is not truth. It is not factual or journalistic. It is drama and melodrama spiced with his own creatively psychotic imagination. What most people consider the virtues of the contemporaneous first movie are stark images of Capote\\'s mind, which may have been the most cold-blooded aspect of all. No wonder viewers ironically but necessarily prefer Blake\\'s performance. That actor IS the nightmare from Capote\\'s dishonest imaginings.<br /><br />So who is to say how the two killers should be played? Who is to judge what could make an essentially poetic psychotic snap from excessive courtesy and kindness to \"do it now\" killing? I agree with the few who see in Eric Roberts\\' work a magnificent performance, Shakespearean in its range, yet played with heartbreaking sincerity. Anthony Edwards takes a much safer \"attitude mode\" to create a smarmy Hickok; but he is one-dimensional and boring, with only a few notes in his television range. Roberts is almost four-dimensional, adding physical weakness and agony to a powerful animal body, a Frankenstein Creature who thinks in poetry and knows exactly what NOT to do. Like Leopold apropos Loeb, Robert\\'s Perry Smith is hopelessly in love with an evil man. Without Hickok or a man of his particularities, Perry Smith would not have brought his psychotic mind into a world of horrors. He fears himself more than he fears anything else in life.<br /><br />Given the freedom from Capote\\'s death grip on the consciousness of the Clutter killings, Roberts and Edwards are free to create original personalities and psychoses to craft a different and new production of the drama. Same facts, some of the same lines from the case record, but deeper, more complex, with clearly titanic psychotic stresses -- indeed Roberts is so good at this fluidic madness that he physically and facially demonstrates in every moment how little awareness he has of where or who he is.<br /><br />What many of our reviewers dislike about this film, Roberts in particular, is that cold-blooded killing isn\\'t shown the way they expect and have been manipulated to demand. That is because here we are seeing a far more profoundly realistic \"interpretation of life and death\" than Capote could ever create -- a real Tragedy.<br /><br />The actual cold-blooded killer, Mr. Capote, and his hypocritically artistic \"non-fiction novel\" do not control these interpretations and performances.<br /><br />If \"In Cold Blood\" and Capote\\'s effect on life, literature and truth matters as much as scholars say, then it takes guts as well as talent to portray the truth, or a version of the truth, that is not the rank, cowardly lie drawn up from the fathoms of Capote\\'s own abyss.'  1    \n",
              "3  b\"After having seen and loved Postal (yes, I actually loved Postal), I decided to try another Uwe Boll film and I picked out Seed because I happened to stumble on it in a local DVD-store and it's supposed to be one of his better films.<br /><br />While the first 10 to 15 minutes of the film were very promising and seemed like the beginning of a not too mainstream psychological thriller, it soon went downhill from there and eventually degraded into one of the most generic slasher films I've seen so far, including a massive amount of plot holes, unrealistic emotional responses and sub-par acting. It seems like Boll tried his best to come up with a decent plot but after a while just gave up on it. Maybe he should stick to comedy?! The few good things about this film is that he does manage to create an overall creepy atmosphere, that the special effects are better than I expected and the soundtrack does go well with the overall atmosphere, but the unbalanced pacing of this film combined with the utter generic nature thereof makes he last half hour quite tedious to watch, which ruined my experience altogether. There are a very fairly well done shocking scenes, but they seem to be there for the shock value alone. And let's not forget the camera work that was pretty nauseating at times.<br /><br />I hope Uwe Boll will one day learn what makes a good film, because between a lot of horrible films he does seem to make a decent film every now and then. Seed just isn't one of those.\"                                                                                                                                                                                                                                                                                                                                                                                                                                                                                                                                                                                                                                                                                                                                                                                                                                                                                                                                                                                                                                                                                                                                                                                                                                                                                                                                                                                                                                                                                                                                                                                                                                                                                                                                                                                                                                                                                                                                                                                                                                                                                                                                                                                                                                                                                                                                                                                                                  0    \n",
              "4  b'David Lynch usually makes films that resemble puzzles put together the wrong way. They are interesting to look at and think about but they really don\\'t gel in your mind. Perhaps art will always mean the most to its creator.<br /><br />The Straight Story is not a typical David Lynch film. Not that there\\'s anything typical about them anyway. It\\'s an odyssey through rural America. A real life journey Alvin Straight took on a lawn mower to get to his brothers house. He rode 300 miles from Laurens, Iowa to Mt. Zion, Wisconsin to make amends to his sick brother for past offenses.<br /><br />At the heart of this film is sweet voiced Richard Farnsworth. He brings Alvin Straight right to us in a simple and honest way. The fact that the film is slow paced matches Alvin\\'s slow journey toward realization.<br /><br />Along the way Alvin meets a confused and frightened young girl. She is pregnant and has decided to run away from her situation. After listening to Alvin speak about family she reconsiders.<br /><br />Later Alvin witnesses a distraught woman kill a deer with her car. She complains that she has killed several and leaves. Alvin feels bad but is smart enough to cook up some dear meat that night.<br /><br />Later Alvin\\'s lawn mower loses its brakes and nearly kills him. A nice man and his wife let him stay in their yard while he gets it fixed. They even let him call his sweet but slow daughter, nicely played by Sissy Spacek, whose haunted by a terrible tragedy in her own past. Alvin insists on paying for the call. The man even offers to drive Alvin to his brothers with pleasure. Alvin declines with thanks.<br /><br />While Alvin waits he also goes off to a bar with a kindly old man as they discuss the harshness of war and the price it took on their souls. Alvin even confesses a fatal mistake he made as a sniper that has forever haunted him.<br /><br />Alvin also encounters two bickering brothers who\\'ve repaired his lawn mower. He talks them down in price wisely calling them on their high labor and repair costs. He even helps them to appreciate one another learning from his own mistakes with his brother.<br /><br />The night before Alvin leaves the man\\'s yard he takes his hat off to him. The man tells him it was an honor having him stay and asks Alvin to write to him. This scene is perfect in it\\'s simplicity. It\\'s heartfelt because it\\'s so straight, so real.<br /><br />The journey continues and we can\\'t help to get more and more involved with it. We want Alvin to get to his brothers. We want him to make amends. We want to know this world is full of forgiveness.<br /><br />This was Richard Farnsworth at his best. It was his last film and his performance was amazing. You can\\'t help but to understand his pride, to listen to his wisdom, and to ultimately feel his pain. One becomes as taken with him as the man who offers him his back yard to stay in.<br /><br />If there\\'s justice in the afterlife then Alvin Straight, his brother, and Richard Farnsworth are together sitting at a bar. I can picture them discussing their lives, regrets, hopes, and joys. As Alvin says in the film, \"My brother and I used to look up at the stars.\" Well, I know they all are with the best view in the house.'                                                                                                                                                                                                                                                                                                                                                                                                                                                                                                                                                                                            1    "
            ]
          },
          "metadata": {
            "tags": []
          },
          "execution_count": 6
        }
      ]
    },
    {
      "cell_type": "markdown",
      "metadata": {
        "id": "Jhela5rmfdi_"
      },
      "source": [
        "## Create TFRecord dataset"
      ]
    },
    {
      "cell_type": "code",
      "metadata": {
        "id": "qGQXWXW3YBvH"
      },
      "source": [
        "def create_example(item):\n",
        "  review, label = item\n",
        "  return Example(\n",
        "      features=Features(\n",
        "          feature={\n",
        "              \"review\": Feature(bytes_list = BytesList(value=[review.numpy()])),\n",
        "              \"label\": Feature(int64_list = Int64List(value=[label]))\n",
        "          }\n",
        "      )\n",
        "  )"
      ],
      "execution_count": 7,
      "outputs": []
    },
    {
      "cell_type": "code",
      "metadata": {
        "id": "yrSpmElveG8J"
      },
      "source": [
        "def write_record(name, dataset, n_shards):\n",
        "  paths = [\"/content/drive/MyDrive/data/{}.tfrecord-{:02d}-of-{:02d}\".format(name, index, n_shards) for index in range(n_shards)]\n",
        "  writers = [tf.io.TFRecordWriter(path) for path in paths]\n",
        "  print(paths)\n",
        "  index = 0\n",
        "  for item in dataset:\n",
        "    writer = writers[index % n_shards]\n",
        "    writer.write(create_example(item).SerializeToString())\n",
        "    index = index+1"
      ],
      "execution_count": 11,
      "outputs": []
    },
    {
      "cell_type": "code",
      "metadata": {
        "id": "8-Hc5NOBeczB",
        "colab": {
          "base_uri": "https://localhost:8080/"
        },
        "outputId": "dbd9b82b-e9aa-4d47-844a-997c21b79d26"
      },
      "source": [
        "write_record(\"train-set\", training_set, 5)"
      ],
      "execution_count": 12,
      "outputs": [
        {
          "output_type": "stream",
          "text": [
            "['/content/drive/MyDrive/data/train-set.tfrecord-00-of-05', '/content/drive/MyDrive/data/train-set.tfrecord-01-of-05', '/content/drive/MyDrive/data/train-set.tfrecord-02-of-05', '/content/drive/MyDrive/data/train-set.tfrecord-03-of-05', '/content/drive/MyDrive/data/train-set.tfrecord-04-of-05']\n"
          ],
          "name": "stdout"
        }
      ]
    },
    {
      "cell_type": "code",
      "metadata": {
        "colab": {
          "base_uri": "https://localhost:8080/"
        },
        "id": "jCjKjMN0gmSl",
        "outputId": "582632a2-330c-4166-9dc6-864294af1cad"
      },
      "source": [
        "write_record(\"test-set\", test_set, 2)\n",
        "write_record(\"validate-set\", validation_set, 2)"
      ],
      "execution_count": 13,
      "outputs": [
        {
          "output_type": "stream",
          "text": [
            "['/content/drive/MyDrive/data/test-set.tfrecord-00-of-02', '/content/drive/MyDrive/data/test-set.tfrecord-01-of-02']\n",
            "['/content/drive/MyDrive/data/validate-set.tfrecord-00-of-02', '/content/drive/MyDrive/data/validate-set.tfrecord-01-of-02']\n"
          ],
          "name": "stdout"
        }
      ]
    },
    {
      "cell_type": "markdown",
      "metadata": {
        "id": "k7FtOozahuPn"
      },
      "source": [
        "Define constants for paths"
      ]
    },
    {
      "cell_type": "code",
      "metadata": {
        "id": "sjoPWKYhhfcz"
      },
      "source": [
        "TRAIN_PATHS = ['/content/drive/MyDrive/data/train-set.tfrecord-00-of-05', '/content/drive/MyDrive/data/train-set.tfrecord-01-of-05', '/content/drive/MyDrive/data/train-set.tfrecord-02-of-05', '/content/drive/MyDrive/data/train-set.tfrecord-03-of-05', '/content/drive/MyDrive/data/train-set.tfrecord-04-of-05']\n",
        "TEST_PATHS = ['/content/drive/MyDrive/data/test-set.tfrecord-00-of-02', '/content/drive/MyDrive/data/test-set.tfrecord-01-of-02']\n",
        "VALIDATE_PATHS = ['/content/drive/MyDrive/data/validate-set.tfrecord-00-of-02', '/content/drive/MyDrive/data/validate-set.tfrecord-01-of-02']"
      ],
      "execution_count": 14,
      "outputs": []
    },
    {
      "cell_type": "code",
      "metadata": {
        "id": "_SqavHTKhrtE"
      },
      "source": [
        "def preprocess_tfrecord(record):\n",
        "  feature_desc={\n",
        "      \"review\": tf.io.FixedLenFeature([], tf.string, b\"\"),\n",
        "      \"label\": tf.io.FixedLenFeature([], tf.int64, -1)\n",
        "  }\n",
        "  example = tf.io.parse_single_example(record, feature_desc)\n",
        "  return example['review'], example['label']\n",
        "\n",
        "def get_tensor_dataset_from_path(paths):\n",
        "  dataset = tf.data.TFRecordDataset(paths, num_parallel_reads=10)\n",
        "  dataset = dataset.map(preprocess_tfrecord)\n",
        "  return dataset.batch(32).prefetch(1)"
      ],
      "execution_count": 15,
      "outputs": []
    },
    {
      "cell_type": "code",
      "metadata": {
        "id": "syuNldSond1Q"
      },
      "source": [
        "TRAIN_SET = get_tensor_dataset_from_path(TRAIN_PATHS)"
      ],
      "execution_count": 16,
      "outputs": []
    },
    {
      "cell_type": "code",
      "metadata": {
        "id": "IVJz9GoIovP9"
      },
      "source": [
        "VAL_SET = get_tensor_dataset_from_path(VALIDATE_PATHS)\n",
        "TST_SET = get_tensor_dataset_from_path(TEST_PATHS)"
      ],
      "execution_count": 17,
      "outputs": []
    },
    {
      "cell_type": "code",
      "metadata": {
        "id": "pOBn3pqSpAs9"
      },
      "source": [
        "\n",
        "def text_pre_process(X_batch, total_slots=50):\n",
        "    # shape = tf.shape(X_batch) * tf.constant([1, 0]) + tf.constant([0, total_slots])\n",
        "    shape = tf.shape(X_batch) * tf.constant([1, 0]) + tf.constant([0, total_slots])\n",
        "    Z = tf.strings.substr(X_batch, 0, 300)\n",
        "    Z = tf.strings.lower(Z)\n",
        "    Z = tf.strings.regex_replace(Z, b\"<br\\\\s*/?>\", b\" \")\n",
        "    Z = tf.strings.regex_replace(Z, b\"[^a-z]\", b\" \")\n",
        "    Z = tf.strings.split(Z)\n",
        "    return Z.to_tensor(shape=shape, default_value=b\"<pad>\")"
      ],
      "execution_count": 41,
      "outputs": []
    },
    {
      "cell_type": "code",
      "metadata": {
        "id": "zvIEzCV1ho4o"
      },
      "source": [
        "from collections import Counter\n",
        "\n",
        "def get_vol(X: tf.Tensor, most_common: int):\n",
        "  Y = X.numpy()\n",
        "  ct = Counter()\n",
        "  for review in Y:\n",
        "    for word in review:\n",
        "      ct[word]+=1\n",
        "  return [wd for wd, count in ct.most_common(most_common)]\n"
      ],
      "execution_count": 42,
      "outputs": []
    },
    {
      "cell_type": "code",
      "metadata": {
        "id": "Axe5dCS_kMHB"
      },
      "source": [
        "def extract_vol(X: tf.Tensor, max_words_per_review, max_vol_size):\n",
        "  return get_vol(text_pre_process(X, max_words_per_review), max_vol_size)"
      ],
      "execution_count": 43,
      "outputs": []
    },
    {
      "cell_type": "code",
      "metadata": {
        "id": "CW-cq1Elf654"
      },
      "source": [
        "text_example = tf.constant([\n",
        "                            \"this is an example\", \"I feel very good\"\n",
        "])"
      ],
      "execution_count": 60,
      "outputs": []
    },
    {
      "cell_type": "code",
      "metadata": {
        "colab": {
          "base_uri": "https://localhost:8080/"
        },
        "id": "rsIYC3gEgApz",
        "outputId": "52f28a08-57e5-4332-bde0-928855d05000"
      },
      "source": [
        "extract_vol(text_example, 100, 1000)"
      ],
      "execution_count": 61,
      "outputs": [
        {
          "output_type": "execute_result",
          "data": {
            "text/plain": [
              "[b'<pad>', b'this', b'is', b'an', b'example', b'i', b'feel', b'very', b'good']"
            ]
          },
          "metadata": {
            "tags": []
          },
          "execution_count": 61
        }
      ]
    },
    {
      "cell_type": "markdown",
      "metadata": {
        "id": "cyr7VhxjlIH5"
      },
      "source": [
        "Need to specify the data type for Layer. The default type is `float`"
      ]
    },
    {
      "cell_type": "code",
      "metadata": {
        "id": "LeoA098-grXa"
      },
      "source": [
        "class TextVectorization(keras.layers.Layer):\n",
        "  def __init__(self, **kwargs):\n",
        "    super().__init__(dtype=tf.string, **kwargs)\n",
        "  \n",
        "  def fit(self, examples):\n",
        "    words = extract_vol(examples, 100, 1000)\n",
        "    size = len(words)\n",
        "    word_ids = tf.range(size, dtype=tf.int64)\n",
        "    self.total_size = size + math.ceil(size*0.1)\n",
        "    vocab_init = tf.lookup.KeyValueTensorInitializer(tf.constant(words), word_ids)\n",
        "    self.table = tf.lookup.StaticVocabularyTable(vocab_init, math.ceil(size * 0.1))\n",
        "  \n",
        "  def call(self, data):\n",
        "    result = text_pre_process(data, 100)\n",
        "    return self.table.lookup(result)\n",
        "\n",
        "  def get_total_size(self):\n",
        "    return self.total_size"
      ],
      "execution_count": 62,
      "outputs": []
    },
    {
      "cell_type": "code",
      "metadata": {
        "id": "-mjiDZp-nZvP"
      },
      "source": [
        "class BagOfWords(keras.layers.Layer):\n",
        "  def __init__(self, depth, **kwargs):\n",
        "    self.depth = depth\n",
        "    super().__init__(**kwargs)\n",
        "  \n",
        "  def call(self, data):\n",
        "    one_hot_code = tf.one_hot(data, self.depth)\n",
        "    return tf.reduce_sum(one_hot_code, axis=1)"
      ],
      "execution_count": 63,
      "outputs": []
    },
    {
      "cell_type": "code",
      "metadata": {
        "id": "eZl04R1a0uG4"
      },
      "source": [
        "bow = BagOfWords(tv.get_total_size()+1)"
      ],
      "execution_count": 64,
      "outputs": []
    },
    {
      "cell_type": "markdown",
      "metadata": {
        "id": "1A_Wvt8_39V4"
      },
      "source": [
        "Get some samples "
      ]
    },
    {
      "cell_type": "code",
      "metadata": {
        "id": "d9b3AvUX1IXJ"
      },
      "source": [
        "sample = TRAIN_SET.take(50).map(lambda review, label: review)"
      ],
      "execution_count": 65,
      "outputs": []
    },
    {
      "cell_type": "code",
      "metadata": {
        "id": "LgpbJefK1y-g"
      },
      "source": [
        "concatenated_sample_reviews = np.concatenate(list(sample.as_numpy_iterator()), axis=0)"
      ],
      "execution_count": 66,
      "outputs": []
    },
    {
      "cell_type": "markdown",
      "metadata": {
        "id": "56oJJjeK4XQp"
      },
      "source": [
        "Create TextVencorization layer and bag of words layer"
      ]
    },
    {
      "cell_type": "code",
      "metadata": {
        "id": "maHnIUal3YcY"
      },
      "source": [
        "tv = TextVectorization(input_shape=[])\n",
        "tv.fit(concatenated_sample_reviews)"
      ],
      "execution_count": 67,
      "outputs": []
    },
    {
      "cell_type": "code",
      "metadata": {
        "id": "-SvuQLGW353C"
      },
      "source": [
        "bow = BagOfWords(tv.get_total_size())"
      ],
      "execution_count": 68,
      "outputs": []
    },
    {
      "cell_type": "code",
      "metadata": {
        "colab": {
          "base_uri": "https://localhost:8080/"
        },
        "id": "1G_3z1TC-PM1",
        "outputId": "378457b2-0e13-47c3-d703-1ddb6af73e65"
      },
      "source": [
        "tv(concatenated_sample_reviews)"
      ],
      "execution_count": 69,
      "outputs": [
        {
          "output_type": "execute_result",
          "data": {
            "text/plain": [
              "<tf.Tensor: shape=(1600, 100), dtype=int64, numpy=\n",
              "array([[   8,    9,    2, ...,    0,    0,    0],\n",
              "       [   1,   15,   51, ...,    0,    0,    0],\n",
              "       [   8,  231, 1054, ...,    0,    0,    0],\n",
              "       ...,\n",
              "       [ 442,  479,    1, ...,    0,    0,    0],\n",
              "       [  10,  777,    6, ...,    0,    0,    0],\n",
              "       [ 120,  523,  368, ...,    0,    0,    0]])>"
            ]
          },
          "metadata": {
            "tags": []
          },
          "execution_count": 69
        }
      ]
    },
    {
      "cell_type": "code",
      "metadata": {
        "id": "G9iQNrUs4UMv"
      },
      "source": [
        "model = keras.models.Sequential([\n",
        "                                 tv,\n",
        "                                 bow,\n",
        "                                 Dense(100, activation=keras.activations.relu),\n",
        "                                 Dense(1, activation=keras.activations.sigmoid)\n",
        "])"
      ],
      "execution_count": 76,
      "outputs": []
    },
    {
      "cell_type": "code",
      "metadata": {
        "id": "K2-ajJ6i441s"
      },
      "source": [
        "model.compile(optimizer=\"nadam\", loss=keras.losses.binary_crossentropy, metrics=[keras.metrics.binary_accuracy])"
      ],
      "execution_count": 77,
      "outputs": []
    },
    {
      "cell_type": "code",
      "metadata": {
        "colab": {
          "base_uri": "https://localhost:8080/"
        },
        "id": "AL9x3WckQs1U",
        "outputId": "efb74bfb-de92-4505-bb9d-5dedcfc2f000"
      },
      "source": [
        "model.fit(TRAIN_SET, epochs=5, validation_data=VAL_SET)"
      ],
      "execution_count": 78,
      "outputs": [
        {
          "output_type": "stream",
          "text": [
            "Epoch 1/5\n",
            "782/782 [==============================] - 14s 17ms/step - loss: 0.5456 - binary_accuracy: 0.7144 - val_loss: 0.5147 - val_binary_accuracy: 0.7367\n",
            "Epoch 2/5\n",
            "782/782 [==============================] - 13s 17ms/step - loss: 0.4950 - binary_accuracy: 0.7528 - val_loss: 0.5042 - val_binary_accuracy: 0.7443\n",
            "Epoch 3/5\n",
            "782/782 [==============================] - 14s 18ms/step - loss: 0.4777 - binary_accuracy: 0.7653 - val_loss: 0.5020 - val_binary_accuracy: 0.7477\n",
            "Epoch 4/5\n",
            "782/782 [==============================] - 14s 18ms/step - loss: 0.4555 - binary_accuracy: 0.7812 - val_loss: 0.5034 - val_binary_accuracy: 0.7474\n",
            "Epoch 5/5\n",
            "782/782 [==============================] - 14s 18ms/step - loss: 0.4255 - binary_accuracy: 0.8022 - val_loss: 0.5097 - val_binary_accuracy: 0.7444\n"
          ],
          "name": "stdout"
        },
        {
          "output_type": "execute_result",
          "data": {
            "text/plain": [
              "<tensorflow.python.keras.callbacks.History at 0x7fc3d505d5c0>"
            ]
          },
          "metadata": {
            "tags": []
          },
          "execution_count": 78
        }
      ]
    },
    {
      "cell_type": "code",
      "metadata": {
        "colab": {
          "base_uri": "https://localhost:8080/"
        },
        "id": "4pfXYm7kQtKo",
        "outputId": "d7db8622-ab02-4874-a266-6d9cc76089a9"
      },
      "source": [
        "model = keras.models.Sequential([\n",
        "    tv,\n",
        "    bow,\n",
        "    keras.layers.Dense(100, activation=\"relu\"),\n",
        "    keras.layers.Dense(1, activation=\"sigmoid\"),\n",
        "])\n",
        "model.compile(loss=\"binary_crossentropy\", optimizer=\"nadam\",\n",
        "              metrics=[\"accuracy\"])\n",
        "model.fit(TRAIN_SET, epochs=5, validation_data=VAL_SET)"
      ],
      "execution_count": 74,
      "outputs": [
        {
          "output_type": "stream",
          "text": [
            "Epoch 1/5\n",
            "782/782 [==============================] - 15s 19ms/step - loss: 0.5475 - accuracy: 0.7168 - val_loss: 0.5159 - val_accuracy: 0.7367\n",
            "Epoch 2/5\n",
            "782/782 [==============================] - 14s 18ms/step - loss: 0.4971 - accuracy: 0.7512 - val_loss: 0.5047 - val_accuracy: 0.7435\n",
            "Epoch 3/5\n",
            "782/782 [==============================] - 14s 17ms/step - loss: 0.4813 - accuracy: 0.7626 - val_loss: 0.5022 - val_accuracy: 0.7463\n",
            "Epoch 4/5\n",
            "782/782 [==============================] - 14s 18ms/step - loss: 0.4608 - accuracy: 0.7766 - val_loss: 0.5035 - val_accuracy: 0.7451\n",
            "Epoch 5/5\n",
            "782/782 [==============================] - 14s 18ms/step - loss: 0.4335 - accuracy: 0.7962 - val_loss: 0.5105 - val_accuracy: 0.7411\n"
          ],
          "name": "stdout"
        },
        {
          "output_type": "execute_result",
          "data": {
            "text/plain": [
              "<tensorflow.python.keras.callbacks.History at 0x7fc3d8b83c50>"
            ]
          },
          "metadata": {
            "tags": []
          },
          "execution_count": 74
        }
      ]
    },
    {
      "cell_type": "code",
      "metadata": {
        "id": "8ugB_3vLRBBB"
      },
      "source": [
        ""
      ],
      "execution_count": null,
      "outputs": []
    }
  ]
}