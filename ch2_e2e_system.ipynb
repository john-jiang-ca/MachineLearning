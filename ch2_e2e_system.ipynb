{
  "nbformat": 4,
  "nbformat_minor": 0,
  "metadata": {
    "colab": {
      "name": "ch2_e2e_system.ipynb",
      "provenance": [],
      "collapsed_sections": [],
      "authorship_tag": "ABX9TyNRIZ7K4XFUjFWW9BW0xYUT",
      "include_colab_link": true
    },
    "kernelspec": {
      "name": "python3",
      "display_name": "Python 3"
    }
  },
  "cells": [
    {
      "cell_type": "markdown",
      "metadata": {
        "id": "view-in-github",
        "colab_type": "text"
      },
      "source": [
        "<a href=\"https://colab.research.google.com/github/john-jiang-ca/MachineLearning/blob/master/ch2_e2e_system.ipynb\" target=\"_parent\"><img src=\"https://colab.research.google.com/assets/colab-badge.svg\" alt=\"Open In Colab\"/></a>"
      ]
    },
    {
      "cell_type": "code",
      "metadata": {
        "id": "7pDgEzsnTit5"
      },
      "source": [
        "import pandas as pd\n",
        "housing = pd.read_csv(\"https://raw.githubusercontent.com/ageron/handson-ml2/master/datasets/housing/housing.csv\")"
      ],
      "execution_count": 5,
      "outputs": []
    },
    {
      "cell_type": "code",
      "metadata": {
        "id": "e9egNyfqU9Xx",
        "colab": {
          "base_uri": "https://localhost:8080/"
        },
        "outputId": "12fc4251-d30e-4944-c170-e016ea1080e7"
      },
      "source": [
        "housing['ocean_proximity'].value_counts()"
      ],
      "execution_count": 6,
      "outputs": [
        {
          "output_type": "execute_result",
          "data": {
            "text/plain": [
              "<1H OCEAN     9136\n",
              "INLAND        6551\n",
              "NEAR OCEAN    2658\n",
              "NEAR BAY      2290\n",
              "ISLAND           5\n",
              "Name: ocean_proximity, dtype: int64"
            ]
          },
          "metadata": {
            "tags": []
          },
          "execution_count": 6
        }
      ]
    },
    {
      "cell_type": "code",
      "metadata": {
        "id": "ccG6DIiGy-yM"
      },
      "source": [
        "from sklearn.base import BaseEstimator, TransformerMixin"
      ],
      "execution_count": 7,
      "outputs": []
    },
    {
      "cell_type": "markdown",
      "metadata": {
        "id": "WHdwEsPvYXZ0"
      },
      "source": [
        "# Hist on a pandas DataFrame"
      ]
    },
    {
      "cell_type": "code",
      "metadata": {
        "colab": {
          "base_uri": "https://localhost:8080/",
          "height": 195
        },
        "id": "21UuZHzezMmK",
        "outputId": "5d435c94-a0f7-4ba3-d1d1-bd033b563886"
      },
      "source": [
        "housing.head()"
      ],
      "execution_count": 8,
      "outputs": [
        {
          "output_type": "execute_result",
          "data": {
            "text/html": [
              "<div>\n",
              "<style scoped>\n",
              "    .dataframe tbody tr th:only-of-type {\n",
              "        vertical-align: middle;\n",
              "    }\n",
              "\n",
              "    .dataframe tbody tr th {\n",
              "        vertical-align: top;\n",
              "    }\n",
              "\n",
              "    .dataframe thead th {\n",
              "        text-align: right;\n",
              "    }\n",
              "</style>\n",
              "<table border=\"1\" class=\"dataframe\">\n",
              "  <thead>\n",
              "    <tr style=\"text-align: right;\">\n",
              "      <th></th>\n",
              "      <th>longitude</th>\n",
              "      <th>latitude</th>\n",
              "      <th>housing_median_age</th>\n",
              "      <th>total_rooms</th>\n",
              "      <th>total_bedrooms</th>\n",
              "      <th>population</th>\n",
              "      <th>households</th>\n",
              "      <th>median_income</th>\n",
              "      <th>median_house_value</th>\n",
              "      <th>ocean_proximity</th>\n",
              "    </tr>\n",
              "  </thead>\n",
              "  <tbody>\n",
              "    <tr>\n",
              "      <th>0</th>\n",
              "      <td>-122.23</td>\n",
              "      <td>37.88</td>\n",
              "      <td>41.0</td>\n",
              "      <td>880.0</td>\n",
              "      <td>129.0</td>\n",
              "      <td>322.0</td>\n",
              "      <td>126.0</td>\n",
              "      <td>8.3252</td>\n",
              "      <td>452600.0</td>\n",
              "      <td>NEAR BAY</td>\n",
              "    </tr>\n",
              "    <tr>\n",
              "      <th>1</th>\n",
              "      <td>-122.22</td>\n",
              "      <td>37.86</td>\n",
              "      <td>21.0</td>\n",
              "      <td>7099.0</td>\n",
              "      <td>1106.0</td>\n",
              "      <td>2401.0</td>\n",
              "      <td>1138.0</td>\n",
              "      <td>8.3014</td>\n",
              "      <td>358500.0</td>\n",
              "      <td>NEAR BAY</td>\n",
              "    </tr>\n",
              "    <tr>\n",
              "      <th>2</th>\n",
              "      <td>-122.24</td>\n",
              "      <td>37.85</td>\n",
              "      <td>52.0</td>\n",
              "      <td>1467.0</td>\n",
              "      <td>190.0</td>\n",
              "      <td>496.0</td>\n",
              "      <td>177.0</td>\n",
              "      <td>7.2574</td>\n",
              "      <td>352100.0</td>\n",
              "      <td>NEAR BAY</td>\n",
              "    </tr>\n",
              "    <tr>\n",
              "      <th>3</th>\n",
              "      <td>-122.25</td>\n",
              "      <td>37.85</td>\n",
              "      <td>52.0</td>\n",
              "      <td>1274.0</td>\n",
              "      <td>235.0</td>\n",
              "      <td>558.0</td>\n",
              "      <td>219.0</td>\n",
              "      <td>5.6431</td>\n",
              "      <td>341300.0</td>\n",
              "      <td>NEAR BAY</td>\n",
              "    </tr>\n",
              "    <tr>\n",
              "      <th>4</th>\n",
              "      <td>-122.25</td>\n",
              "      <td>37.85</td>\n",
              "      <td>52.0</td>\n",
              "      <td>1627.0</td>\n",
              "      <td>280.0</td>\n",
              "      <td>565.0</td>\n",
              "      <td>259.0</td>\n",
              "      <td>3.8462</td>\n",
              "      <td>342200.0</td>\n",
              "      <td>NEAR BAY</td>\n",
              "    </tr>\n",
              "  </tbody>\n",
              "</table>\n",
              "</div>"
            ],
            "text/plain": [
              "   longitude  latitude  ...  median_house_value  ocean_proximity\n",
              "0    -122.23     37.88  ...            452600.0         NEAR BAY\n",
              "1    -122.22     37.86  ...            358500.0         NEAR BAY\n",
              "2    -122.24     37.85  ...            352100.0         NEAR BAY\n",
              "3    -122.25     37.85  ...            341300.0         NEAR BAY\n",
              "4    -122.25     37.85  ...            342200.0         NEAR BAY\n",
              "\n",
              "[5 rows x 10 columns]"
            ]
          },
          "metadata": {
            "tags": []
          },
          "execution_count": 8
        }
      ]
    },
    {
      "cell_type": "code",
      "metadata": {
        "colab": {
          "base_uri": "https://localhost:8080/",
          "height": 1000
        },
        "id": "uVc0JYIFVbn7",
        "outputId": "b995e073-c1b2-4c61-8ab7-60c3d4e06302"
      },
      "source": [
        "import matplotlib.pyplot as plt\n",
        "housing.hist(bins=30, figsize=(20,15))"
      ],
      "execution_count": 9,
      "outputs": [
        {
          "output_type": "execute_result",
          "data": {
            "text/plain": [
              "array([[<matplotlib.axes._subplots.AxesSubplot object at 0x7fe6d6e50588>,\n",
              "        <matplotlib.axes._subplots.AxesSubplot object at 0x7fe6d6e27860>,\n",
              "        <matplotlib.axes._subplots.AxesSubplot object at 0x7fe6d6ddaac8>],\n",
              "       [<matplotlib.axes._subplots.AxesSubplot object at 0x7fe6d6d8ad30>,\n",
              "        <matplotlib.axes._subplots.AxesSubplot object at 0x7fe6d6dbbf98>,\n",
              "        <matplotlib.axes._subplots.AxesSubplot object at 0x7fe6d6d79240>],\n",
              "       [<matplotlib.axes._subplots.AxesSubplot object at 0x7fe6d6d274a8>,\n",
              "        <matplotlib.axes._subplots.AxesSubplot object at 0x7fe6d6cd76d8>,\n",
              "        <matplotlib.axes._subplots.AxesSubplot object at 0x7fe6d6cd7748>]],\n",
              "      dtype=object)"
            ]
          },
          "metadata": {
            "tags": []
          },
          "execution_count": 9
        },
        {
          "output_type": "display_data",
          "data": {
            "image/png": "[encoded data removed]",
            "text/plain": [
              "<Figure size 1440x1080 with 9 Axes>"
            ]
          },
          "metadata": {
            "tags": [],
            "needs_background": "light"
          }
        }
      ]
    },
    {
      "cell_type": "markdown",
      "metadata": {
        "id": "I-VyIMtXzT3j"
      },
      "source": [
        "# ML Plans"
      ]
    },
    {
      "cell_type": "markdown",
      "metadata": {
        "id": "HPsguaZ-zawF"
      },
      "source": [
        "## Create combined Attribute *Transformer*"
      ]
    },
    {
      "cell_type": "code",
      "metadata": {
        "id": "q31V1F5rzR6T"
      },
      "source": [
        "class CombinedAttrTransformer(BaseEstimator, TransformerMixin):\n",
        "  def __init__(self, cols):\n",
        "    self.cols = cols\n",
        "  \n",
        "  def fit(self, X, y=None):\n",
        "    return self\n",
        "  \n",
        "  def transform(self, X, y=None):\n",
        "    if not isinstance(X, pd.DataFrame):\n",
        "      print(\"create dataframe\")\n",
        "      df = pd.DataFrame(X, columns=self.cols)\n",
        "    else:\n",
        "      df = X\n",
        "    print(\"transform\")\n",
        "    df['rooms_per_hh'] = df['total_rooms'] / df['households']\n",
        "    df['population_per_hh'] = df['population'] / df['households']\n",
        "    df['bedrooms_per_hh'] = df['total_bedrooms'] / df['households']\n",
        "    return df"
      ],
      "execution_count": 32,
      "outputs": []
    },
    {
      "cell_type": "markdown",
      "metadata": {
        "id": "0NuuUs-O0_QM"
      },
      "source": [
        "## Split the test and train sets"
      ]
    },
    {
      "cell_type": "code",
      "metadata": {
        "id": "n9q6gCbEVp-T"
      },
      "source": [
        "from sklearn.model_selection import train_test_split\n",
        "train_set, test_set = train_test_split(housing, test_size=0.2, random_state=0)"
      ],
      "execution_count": 11,
      "outputs": []
    },
    {
      "cell_type": "code",
      "metadata": {
        "id": "7F4zUqc7AGmD"
      },
      "source": [
        "features = [x for x in housing.columns]\n",
        "target = ['median_house_value']\n",
        "features.remove('median_house_value')\n",
        "X_train = train_set[features]\n",
        "y_train = train_set[target]\n",
        "X_test = test_set[features]\n",
        "y_test = test_set[target]"
      ],
      "execution_count": 52,
      "outputs": []
    },
    {
      "cell_type": "code",
      "metadata": {
        "colab": {
          "base_uri": "https://localhost:8080/",
          "height": 195
        },
        "id": "G_rUoHKFA8sw",
        "outputId": "63ead825-830a-455b-bdcf-740cf76eddd7"
      },
      "source": [
        "X_test.head()\n"
      ],
      "execution_count": 53,
      "outputs": [
        {
          "output_type": "execute_result",
          "data": {
            "text/html": [
              "<div>\n",
              "<style scoped>\n",
              "    .dataframe tbody tr th:only-of-type {\n",
              "        vertical-align: middle;\n",
              "    }\n",
              "\n",
              "    .dataframe tbody tr th {\n",
              "        vertical-align: top;\n",
              "    }\n",
              "\n",
              "    .dataframe thead th {\n",
              "        text-align: right;\n",
              "    }\n",
              "</style>\n",
              "<table border=\"1\" class=\"dataframe\">\n",
              "  <thead>\n",
              "    <tr style=\"text-align: right;\">\n",
              "      <th></th>\n",
              "      <th>longitude</th>\n",
              "      <th>latitude</th>\n",
              "      <th>housing_median_age</th>\n",
              "      <th>total_rooms</th>\n",
              "      <th>total_bedrooms</th>\n",
              "      <th>population</th>\n",
              "      <th>households</th>\n",
              "      <th>median_income</th>\n",
              "      <th>ocean_proximity</th>\n",
              "    </tr>\n",
              "  </thead>\n",
              "  <tbody>\n",
              "    <tr>\n",
              "      <th>14740</th>\n",
              "      <td>-117.05</td>\n",
              "      <td>32.58</td>\n",
              "      <td>22.0</td>\n",
              "      <td>2101.0</td>\n",
              "      <td>399.0</td>\n",
              "      <td>1551.0</td>\n",
              "      <td>371.0</td>\n",
              "      <td>4.1518</td>\n",
              "      <td>NEAR OCEAN</td>\n",
              "    </tr>\n",
              "    <tr>\n",
              "      <th>10101</th>\n",
              "      <td>-117.97</td>\n",
              "      <td>33.92</td>\n",
              "      <td>32.0</td>\n",
              "      <td>2620.0</td>\n",
              "      <td>398.0</td>\n",
              "      <td>1296.0</td>\n",
              "      <td>429.0</td>\n",
              "      <td>5.7796</td>\n",
              "      <td>&lt;1H OCEAN</td>\n",
              "    </tr>\n",
              "    <tr>\n",
              "      <th>20566</th>\n",
              "      <td>-121.84</td>\n",
              "      <td>38.65</td>\n",
              "      <td>29.0</td>\n",
              "      <td>3167.0</td>\n",
              "      <td>548.0</td>\n",
              "      <td>1554.0</td>\n",
              "      <td>534.0</td>\n",
              "      <td>4.3487</td>\n",
              "      <td>INLAND</td>\n",
              "    </tr>\n",
              "    <tr>\n",
              "      <th>2670</th>\n",
              "      <td>-115.60</td>\n",
              "      <td>33.20</td>\n",
              "      <td>37.0</td>\n",
              "      <td>709.0</td>\n",
              "      <td>187.0</td>\n",
              "      <td>390.0</td>\n",
              "      <td>142.0</td>\n",
              "      <td>2.4511</td>\n",
              "      <td>INLAND</td>\n",
              "    </tr>\n",
              "    <tr>\n",
              "      <th>15709</th>\n",
              "      <td>-122.43</td>\n",
              "      <td>37.79</td>\n",
              "      <td>25.0</td>\n",
              "      <td>1637.0</td>\n",
              "      <td>394.0</td>\n",
              "      <td>649.0</td>\n",
              "      <td>379.0</td>\n",
              "      <td>5.0049</td>\n",
              "      <td>NEAR BAY</td>\n",
              "    </tr>\n",
              "  </tbody>\n",
              "</table>\n",
              "</div>"
            ],
            "text/plain": [
              "       longitude  latitude  ...  median_income  ocean_proximity\n",
              "14740    -117.05     32.58  ...         4.1518       NEAR OCEAN\n",
              "10101    -117.97     33.92  ...         5.7796        <1H OCEAN\n",
              "20566    -121.84     38.65  ...         4.3487           INLAND\n",
              "2670     -115.60     33.20  ...         2.4511           INLAND\n",
              "15709    -122.43     37.79  ...         5.0049         NEAR BAY\n",
              "\n",
              "[5 rows x 9 columns]"
            ]
          },
          "metadata": {
            "tags": []
          },
          "execution_count": 53
        }
      ]
    },
    {
      "cell_type": "code",
      "metadata": {
        "colab": {
          "base_uri": "https://localhost:8080/",
          "height": 195
        },
        "id": "rfM2dcAjBCFO",
        "outputId": "2de86455-23a1-4112-ef35-3b997957ce99"
      },
      "source": [
        "y_train.head()"
      ],
      "execution_count": 14,
      "outputs": [
        {
          "output_type": "execute_result",
          "data": {
            "text/html": [
              "<div>\n",
              "<style scoped>\n",
              "    .dataframe tbody tr th:only-of-type {\n",
              "        vertical-align: middle;\n",
              "    }\n",
              "\n",
              "    .dataframe tbody tr th {\n",
              "        vertical-align: top;\n",
              "    }\n",
              "\n",
              "    .dataframe thead th {\n",
              "        text-align: right;\n",
              "    }\n",
              "</style>\n",
              "<table border=\"1\" class=\"dataframe\">\n",
              "  <thead>\n",
              "    <tr style=\"text-align: right;\">\n",
              "      <th></th>\n",
              "      <th>median_house_value</th>\n",
              "    </tr>\n",
              "  </thead>\n",
              "  <tbody>\n",
              "    <tr>\n",
              "      <th>12069</th>\n",
              "      <td>500001.0</td>\n",
              "    </tr>\n",
              "    <tr>\n",
              "      <th>15925</th>\n",
              "      <td>270000.0</td>\n",
              "    </tr>\n",
              "    <tr>\n",
              "      <th>11162</th>\n",
              "      <td>196100.0</td>\n",
              "    </tr>\n",
              "    <tr>\n",
              "      <th>4904</th>\n",
              "      <td>118800.0</td>\n",
              "    </tr>\n",
              "    <tr>\n",
              "      <th>4683</th>\n",
              "      <td>225000.0</td>\n",
              "    </tr>\n",
              "  </tbody>\n",
              "</table>\n",
              "</div>"
            ],
            "text/plain": [
              "       median_house_value\n",
              "12069            500001.0\n",
              "15925            270000.0\n",
              "11162            196100.0\n",
              "4904             118800.0\n",
              "4683             225000.0"
            ]
          },
          "metadata": {
            "tags": []
          },
          "execution_count": 14
        }
      ]
    },
    {
      "cell_type": "code",
      "metadata": {
        "id": "0x9j1ksgBJuZ"
      },
      "source": [
        "from sklearn.pipeline import Pipeline\n",
        "from sklearn.compose import ColumnTransformer\n",
        "from sklearn.impute import SimpleImputer\n",
        "from sklearn.preprocessing import StandardScaler, KBinsDiscretizer, OneHotEncoder"
      ],
      "execution_count": 22,
      "outputs": []
    },
    {
      "cell_type": "code",
      "metadata": {
        "id": "1qtdGafX4Tog"
      },
      "source": [
        "category_cols = ['ocean_proximity']\n",
        "bin_cols = ['longitude', 'latitude', 'housing_median_age']\n",
        "num_cols = ['total_rooms', 'total_bedrooms', 'population', 'households', 'median_income']"
      ],
      "execution_count": 36,
      "outputs": []
    },
    {
      "cell_type": "code",
      "metadata": {
        "id": "J0t1VyJzBOvQ"
      },
      "source": [
        "num_pipe = Pipeline([\n",
        "                     (\"imputer\", SimpleImputer(strategy=\"median\")),\n",
        "                     (\"attr_adder\", CombinedAttrTransformer(num_cols)),\n",
        "                     (\"scaler\", StandardScaler())\n",
        "])"
      ],
      "execution_count": 37,
      "outputs": []
    },
    {
      "cell_type": "code",
      "metadata": {
        "colab": {
          "base_uri": "https://localhost:8080/"
        },
        "id": "bKX7Cddf2jAC",
        "outputId": "15b0dafa-6f42-4b43-a563-eec04aff0ba1"
      },
      "source": [
        "features"
      ],
      "execution_count": 29,
      "outputs": [
        {
          "output_type": "execute_result",
          "data": {
            "text/plain": [
              "['longitude',\n",
              " 'latitude',\n",
              " 'housing_median_age',\n",
              " 'total_rooms',\n",
              " 'total_bedrooms',\n",
              " 'population',\n",
              " 'households',\n",
              " 'median_income',\n",
              " 'ocean_proximity']"
            ]
          },
          "metadata": {
            "tags": []
          },
          "execution_count": 29
        }
      ]
    },
    {
      "cell_type": "code",
      "metadata": {
        "id": "VbXNwu2C2IPj"
      },
      "source": [
        "\n",
        "full_pipeline = ColumnTransformer(\n",
        "    [\n",
        "     (\"num\", num_pipe, num_cols),\n",
        "     (\"cat\", OneHotEncoder(), category_cols),\n",
        "     (\"bin\", KBinsDiscretizer(n_bins=10), bin_cols)\n",
        "    ]\n",
        ")"
      ],
      "execution_count": 38,
      "outputs": []
    },
    {
      "cell_type": "code",
      "metadata": {
        "colab": {
          "base_uri": "https://localhost:8080/"
        },
        "id": "x5lINkKuB-Vn",
        "outputId": "531478d0-8c85-4e23-94ac-891a0979b511"
      },
      "source": [
        "X_train_clean = full_pipeline.fit_transform(X_train)"
      ],
      "execution_count": 40,
      "outputs": [
        {
          "output_type": "stream",
          "text": [
            "create dataframe\n",
            "transform\n"
          ],
          "name": "stdout"
        }
      ]
    },
    {
      "cell_type": "code",
      "metadata": {
        "id": "0LkISsf26Kgo"
      },
      "source": [
        "# Try a Linear Regression as a baseline"
      ],
      "execution_count": 44,
      "outputs": []
    },
    {
      "cell_type": "code",
      "metadata": {
        "colab": {
          "base_uri": "https://localhost:8080/"
        },
        "id": "G8gss3Fz4b9z",
        "outputId": "bcded332-cb2c-4e65-fc57-7b798fa37f7c"
      },
      "source": [
        "from sklearn.linear_model import LinearRegression\n",
        "lin_reg=LinearRegression()\n",
        "lin_reg.fit(X_train_clean, y_train)"
      ],
      "execution_count": 45,
      "outputs": [
        {
          "output_type": "execute_result",
          "data": {
            "text/plain": [
              "LinearRegression(copy_X=True, fit_intercept=True, n_jobs=None, normalize=False)"
            ]
          },
          "metadata": {
            "tags": []
          },
          "execution_count": 45
        }
      ]
    },
    {
      "cell_type": "code",
      "metadata": {
        "id": "qJoZybLh6PU2"
      },
      "source": [
        "from sklearn.model_selection import cross_val_score\n",
        "import numpy as np\n",
        "from sklearn.metrics import mean_squared_error"
      ],
      "execution_count": 55,
      "outputs": []
    },
    {
      "cell_type": "code",
      "metadata": {
        "id": "cc3W2ASr6Y75"
      },
      "source": [
        "scores = cross_val_score(lin_reg, X_train_clean, y_train, cv=10, n_jobs=-1, scoring=\"neg_mean_squared_error\")\n",
        "rmse = np.sqrt(-scores)"
      ],
      "execution_count": 48,
      "outputs": []
    },
    {
      "cell_type": "code",
      "metadata": {
        "colab": {
          "base_uri": "https://localhost:8080/"
        },
        "id": "a0dGqFKX66jD",
        "outputId": "0b5f05ff-3e05-40f7-ba17-81cb3ba57871"
      },
      "source": [
        "print(rmse)\n",
        "print(rmse.mean())\n",
        "print(rmse.std())"
      ],
      "execution_count": 51,
      "outputs": [
        {
          "output_type": "stream",
          "text": [
            "[69092.47207566 63432.15222175 66211.20176782 64612.42043216\n",
            " 70019.81869822 65114.4138883  64827.10657958 64091.7174758\n",
            " 69403.970917   61951.98947344]\n",
            "65875.72635297358\n",
            "2605.889543397918\n"
          ],
          "name": "stdout"
        }
      ]
    },
    {
      "cell_type": "code",
      "metadata": {
        "colab": {
          "base_uri": "https://localhost:8080/"
        },
        "id": "hyFf5HlW7jqp",
        "outputId": "d264bae1-7023-4b23-baee-b20ba31a0742"
      },
      "source": [
        "X_test_clean=full_pipeline.transform(X_test)\n",
        "y_test_predict = lin_reg.predict(X_test_clean)\n",
        "rmse_test = np.sqrt(mean_squared_error(y_test, y_test_predict))\n",
        "print(rmse_test)"
      ],
      "execution_count": 57,
      "outputs": [
        {
          "output_type": "stream",
          "text": [
            "create dataframe\n",
            "transform\n",
            "65360.30361053899\n"
          ],
          "name": "stdout"
        }
      ]
    },
    {
      "cell_type": "markdown",
      "metadata": {
        "id": "JUGMZyi7ZvVq"
      },
      "source": [
        "#Use Plt to explore data"
      ]
    },
    {
      "cell_type": "code",
      "metadata": {
        "colab": {
          "base_uri": "https://localhost:8080/",
          "height": 436
        },
        "id": "S6KpdQEKXS9m",
        "outputId": "2a376481-999f-43f7-cba9-7587e76dbd6b"
      },
      "source": [
        "housing.plot(kind=\"scatter\", x=\"longitude\", y=\"latitude\", alpha=0.4, s=housing['population']/100, label=\"population\", figsize=(10,7), c=\"median_house_value\", cmap=plt.get_cmap(\"jet\"), colorbar=True)"
      ],
      "execution_count": 28,
      "outputs": [
        {
          "output_type": "execute_result",
          "data": {
            "text/plain": [
              "<matplotlib.axes._subplots.AxesSubplot at 0x7f53bfdb2438>"
            ]
          },
          "metadata": {
            "tags": []
          },
          "execution_count": 28
        },
        {
          "output_type": "display_data",
          "data": {
            "image/png": "[encoded data removed]",
            "text/plain": [
              "<Figure size 720x504 with 2 Axes>"
            ]
          },
          "metadata": {
            "tags": [],
            "needs_background": "light"
          }
        }
      ]
    },
    {
      "cell_type": "markdown",
      "metadata": {
        "id": "lGNWJggzjP20"
      },
      "source": [
        "# Explor corr for dataset"
      ]
    },
    {
      "cell_type": "code",
      "metadata": {
        "id": "t3Z2CKprXdmP"
      },
      "source": [
        "from pandas.plotting import scatter_matrix"
      ],
      "execution_count": 30,
      "outputs": []
    },
    {
      "cell_type": "code",
      "metadata": {
        "id": "oxAopeO9aeWr"
      },
      "source": [
        "col = housing.columns\n",
        "index=range(len(col))\n",
        "col = dict(zip(index, col))"
      ],
      "execution_count": 43,
      "outputs": []
    },
    {
      "cell_type": "code",
      "metadata": {
        "colab": {
          "base_uri": "https://localhost:8080/"
        },
        "id": "IFPE0BK3avQm",
        "outputId": "b37217ee-4ee9-4227-fecd-e41897a38584"
      },
      "source": [
        "col"
      ],
      "execution_count": 44,
      "outputs": [
        {
          "output_type": "execute_result",
          "data": {
            "text/plain": [
              "{0: 'longitude',\n",
              " 1: 'latitude',\n",
              " 2: 'housing_median_age',\n",
              " 3: 'total_rooms',\n",
              " 4: 'total_bedrooms',\n",
              " 5: 'population',\n",
              " 6: 'households',\n",
              " 7: 'median_income',\n",
              " 8: 'median_house_value',\n",
              " 9: 'ocean_proximity',\n",
              " 10: 'income_bin_5'}"
            ]
          },
          "metadata": {
            "tags": []
          },
          "execution_count": 44
        }
      ]
    },
    {
      "cell_type": "code",
      "metadata": {
        "id": "8osNu-2kbCF5"
      },
      "source": [
        "attr=[col[8], col[7], col[3], col[2]]"
      ],
      "execution_count": 45,
      "outputs": []
    },
    {
      "cell_type": "code",
      "metadata": {
        "id": "kQy6zawVbyR3"
      },
      "source": [
        "corr_matrix = housing.corr()"
      ],
      "execution_count": 49,
      "outputs": []
    },
    {
      "cell_type": "code",
      "metadata": {
        "colab": {
          "base_uri": "https://localhost:8080/"
        },
        "id": "oB2qaVrebyv7",
        "outputId": "ba5af53c-bd9d-4651-b478-128a25470710"
      },
      "source": [
        "corr_matrix['median_house_value'].sort_values()"
      ],
      "execution_count": 50,
      "outputs": [
        {
          "output_type": "execute_result",
          "data": {
            "text/plain": [
              "latitude             -0.144160\n",
              "longitude            -0.045967\n",
              "population           -0.024650\n",
              "total_bedrooms        0.049686\n",
              "households            0.065843\n",
              "housing_median_age    0.105623\n",
              "total_rooms           0.134153\n",
              "income_bin_5          0.620465\n",
              "median_income         0.688075\n",
              "median_house_value    1.000000\n",
              "Name: median_house_value, dtype: float64"
            ]
          },
          "metadata": {
            "tags": []
          },
          "execution_count": 50
        }
      ]
    },
    {
      "cell_type": "markdown",
      "metadata": {
        "id": "JcrifrxpjXml"
      },
      "source": [
        "# Exercises\n"
      ]
    },
    {
      "cell_type": "code",
      "metadata": {
        "colab": {
          "base_uri": "https://localhost:8080/",
          "height": 195
        },
        "id": "EmqswggRceXf",
        "outputId": "7f4ed154-4fa0-4237-8cb2-0e58989529d6"
      },
      "source": [
        "housing.head()"
      ],
      "execution_count": 51,
      "outputs": [
        {
          "output_type": "execute_result",
          "data": {
            "text/html": [
              "<div>\n",
              "<style scoped>\n",
              "    .dataframe tbody tr th:only-of-type {\n",
              "        vertical-align: middle;\n",
              "    }\n",
              "\n",
              "    .dataframe tbody tr th {\n",
              "        vertical-align: top;\n",
              "    }\n",
              "\n",
              "    .dataframe thead th {\n",
              "        text-align: right;\n",
              "    }\n",
              "</style>\n",
              "<table border=\"1\" class=\"dataframe\">\n",
              "  <thead>\n",
              "    <tr style=\"text-align: right;\">\n",
              "      <th></th>\n",
              "      <th>longitude</th>\n",
              "      <th>latitude</th>\n",
              "      <th>housing_median_age</th>\n",
              "      <th>total_rooms</th>\n",
              "      <th>total_bedrooms</th>\n",
              "      <th>population</th>\n",
              "      <th>households</th>\n",
              "      <th>median_income</th>\n",
              "      <th>median_house_value</th>\n",
              "      <th>ocean_proximity</th>\n",
              "      <th>income_bin_5</th>\n",
              "    </tr>\n",
              "  </thead>\n",
              "  <tbody>\n",
              "    <tr>\n",
              "      <th>0</th>\n",
              "      <td>-122.23</td>\n",
              "      <td>37.88</td>\n",
              "      <td>41.0</td>\n",
              "      <td>880.0</td>\n",
              "      <td>129.0</td>\n",
              "      <td>322.0</td>\n",
              "      <td>126.0</td>\n",
              "      <td>8.3252</td>\n",
              "      <td>452600.0</td>\n",
              "      <td>NEAR BAY</td>\n",
              "      <td>4.0</td>\n",
              "    </tr>\n",
              "    <tr>\n",
              "      <th>1</th>\n",
              "      <td>-122.22</td>\n",
              "      <td>37.86</td>\n",
              "      <td>21.0</td>\n",
              "      <td>7099.0</td>\n",
              "      <td>1106.0</td>\n",
              "      <td>2401.0</td>\n",
              "      <td>1138.0</td>\n",
              "      <td>8.3014</td>\n",
              "      <td>358500.0</td>\n",
              "      <td>NEAR BAY</td>\n",
              "      <td>4.0</td>\n",
              "    </tr>\n",
              "    <tr>\n",
              "      <th>2</th>\n",
              "      <td>-122.24</td>\n",
              "      <td>37.85</td>\n",
              "      <td>52.0</td>\n",
              "      <td>1467.0</td>\n",
              "      <td>190.0</td>\n",
              "      <td>496.0</td>\n",
              "      <td>177.0</td>\n",
              "      <td>7.2574</td>\n",
              "      <td>352100.0</td>\n",
              "      <td>NEAR BAY</td>\n",
              "      <td>4.0</td>\n",
              "    </tr>\n",
              "    <tr>\n",
              "      <th>3</th>\n",
              "      <td>-122.25</td>\n",
              "      <td>37.85</td>\n",
              "      <td>52.0</td>\n",
              "      <td>1274.0</td>\n",
              "      <td>235.0</td>\n",
              "      <td>558.0</td>\n",
              "      <td>219.0</td>\n",
              "      <td>5.6431</td>\n",
              "      <td>341300.0</td>\n",
              "      <td>NEAR BAY</td>\n",
              "      <td>4.0</td>\n",
              "    </tr>\n",
              "    <tr>\n",
              "      <th>4</th>\n",
              "      <td>-122.25</td>\n",
              "      <td>37.85</td>\n",
              "      <td>52.0</td>\n",
              "      <td>1627.0</td>\n",
              "      <td>280.0</td>\n",
              "      <td>565.0</td>\n",
              "      <td>259.0</td>\n",
              "      <td>3.8462</td>\n",
              "      <td>342200.0</td>\n",
              "      <td>NEAR BAY</td>\n",
              "      <td>2.0</td>\n",
              "    </tr>\n",
              "  </tbody>\n",
              "</table>\n",
              "</div>"
            ],
            "text/plain": [
              "   longitude  latitude  ...  ocean_proximity  income_bin_5\n",
              "0    -122.23     37.88  ...         NEAR BAY           4.0\n",
              "1    -122.22     37.86  ...         NEAR BAY           4.0\n",
              "2    -122.24     37.85  ...         NEAR BAY           4.0\n",
              "3    -122.25     37.85  ...         NEAR BAY           4.0\n",
              "4    -122.25     37.85  ...         NEAR BAY           2.0\n",
              "\n",
              "[5 rows x 11 columns]"
            ]
          },
          "metadata": {
            "tags": []
          },
          "execution_count": 51
        }
      ]
    },
    {
      "cell_type": "code",
      "metadata": {
        "id": "q6LG4LbMjcWl"
      },
      "source": [
        "from sklearn.preprocessing import KBinsDiscretizer\n",
        "\n",
        "from sklearn.compose import ColumnTransformer\n",
        "from sklearn.pipeline import Pipeline"
      ],
      "execution_count": 56,
      "outputs": []
    },
    {
      "cell_type": "code",
      "metadata": {
        "id": "b4IxELwIj0hV"
      },
      "source": [
        "kbins_for_long_bin_10 = KBinsDiscretizer(n_bins=10)\n",
        "kbins_for_lati_bin_10 = KBinsDiscretizer(n_bins=10)\n",
        "kbins_for_house_age_5 = KBinsDiscretizer(n_bins=5)"
      ],
      "execution_count": 58,
      "outputs": []
    },
    {
      "cell_type": "code",
      "metadata": {
        "id": "k1MY5tpKj_AO"
      },
      "source": [
        "cols = [x for x in train_set.columns.values]"
      ],
      "execution_count": 65,
      "outputs": []
    },
    {
      "cell_type": "code",
      "metadata": {
        "id": "vl0xhKWhj_zu"
      },
      "source": [
        "target_col_name=  ['median_house_value']\n",
        "if 'median_house_value' in cols:\n",
        "  cols.remove('median_house_value')"
      ],
      "execution_count": 73,
      "outputs": []
    },
    {
      "cell_type": "code",
      "metadata": {
        "id": "Gnb8vzKJMGY_"
      },
      "source": [
        "train_set = train_set[train_set['total_bedrooms'].notnull()]\n",
        "y_train = train_set[['median_house_value']]\n",
        "X_train = train_set[cols]"
      ],
      "execution_count": 84,
      "outputs": []
    },
    {
      "cell_type": "code",
      "metadata": {
        "id": "kTzl_dpGMlQt"
      },
      "source": [
        "from sklearn.preprocessing import StandardScaler\n",
        "num_pipe = Pipeline([\n",
        "                     ('scaler', StandardScaler())\n",
        "]);\n"
      ],
      "execution_count": 87,
      "outputs": []
    },
    {
      "cell_type": "code",
      "metadata": {
        "id": "MXWdTh-cPriI"
      },
      "source": [
        "from sklearn.preprocessing import OneHotEncoder"
      ],
      "execution_count": 88,
      "outputs": []
    },
    {
      "cell_type": "code",
      "metadata": {
        "id": "Ov3IhAfONBsf"
      },
      "source": [
        "full_pipe = ColumnTransformer([\n",
        "                               (\"num\", StandardScaler(), ['total_rooms', 'total_bedrooms', 'population', 'households']),\n",
        "                               (\"bucketize_10\", KBinsDiscretizer(encode=\"ordinal\", n_bins=10), ['longitude', 'latitude']),\n",
        "                               (\"bucketize_5\", KBinsDiscretizer(encode='ordinal', n_bins=5), ['housing_median_age', 'median_income']),\n",
        "                               (\"catygory\", OneHotEncoder(), ['ocean_proximity'])\n",
        "])"
      ],
      "execution_count": 89,
      "outputs": []
    },
    {
      "cell_type": "code",
      "metadata": {
        "id": "9gAmkjJ0P0Ve"
      },
      "source": [
        "all_cols = ['total_rooms', 'total_bedrooms', 'population', 'households'] + ['longitude', 'latitude'] + ['housing_median_age', 'median_income'] + ['ocean_proximity']"
      ],
      "execution_count": 90,
      "outputs": []
    },
    {
      "cell_type": "code",
      "metadata": {
        "id": "jWAZnnqcP7YT"
      },
      "source": [
        "X_train = X_train[all_cols]"
      ],
      "execution_count": 92,
      "outputs": []
    },
    {
      "cell_type": "code",
      "metadata": {
        "id": "AG1bi-9XP8KJ"
      },
      "source": [
        "from sklearn.linear_model import LinearRegression"
      ],
      "execution_count": 93,
      "outputs": []
    },
    {
      "cell_type": "code",
      "metadata": {
        "id": "UOpxiy8BQFUr"
      },
      "source": [
        "X_prepared = full_pipe.fit_transform(X_train)"
      ],
      "execution_count": 94,
      "outputs": []
    },
    {
      "cell_type": "code",
      "metadata": {
        "id": "5R-iTvFDQNM1"
      },
      "source": [
        "model = LinearRegression()"
      ],
      "execution_count": 103,
      "outputs": []
    },
    {
      "cell_type": "code",
      "metadata": {
        "id": "Iwje0rMfQPNL"
      },
      "source": [
        "from sklearn.model_selection import cross_val_score"
      ],
      "execution_count": 105,
      "outputs": []
    },
    {
      "cell_type": "code",
      "metadata": {
        "id": "oopPIaRrQ_tz"
      },
      "source": [
        "scores = cross_val_score(model, X_prepared, y_train, cv=10, scoring='neg_mean_squared_error')"
      ],
      "execution_count": 107,
      "outputs": []
    },
    {
      "cell_type": "code",
      "metadata": {
        "id": "HmAd5qerRedb"
      },
      "source": [
        "import numpy as np"
      ],
      "execution_count": 108,
      "outputs": []
    },
    {
      "cell_type": "code",
      "metadata": {
        "id": "QPou47Z1Rnqi"
      },
      "source": [
        "rmse = np.sqrt(-scores)"
      ],
      "execution_count": 109,
      "outputs": []
    },
    {
      "cell_type": "code",
      "metadata": {
        "colab": {
          "base_uri": "https://localhost:8080/"
        },
        "id": "aOEklmelRsxi",
        "outputId": "186bb119-411a-4d42-ded4-945c789f297d"
      },
      "source": [
        "rmse"
      ],
      "execution_count": 110,
      "outputs": [
        {
          "output_type": "execute_result",
          "data": {
            "text/plain": [
              "array([76705.78790736, 74230.7508137 , 77347.66431155, 75721.77519379,\n",
              "       81420.0273445 , 77807.68110581, 74340.09972988, 75586.31457121,\n",
              "       80978.99858973, 75089.97303396])"
            ]
          },
          "metadata": {
            "tags": []
          },
          "execution_count": 110
        }
      ]
    },
    {
      "cell_type": "code",
      "metadata": {
        "id": "ApfG3ax7RwcK"
      },
      "source": [
        ""
      ],
      "execution_count": null,
      "outputs": []
    }
  ]
}